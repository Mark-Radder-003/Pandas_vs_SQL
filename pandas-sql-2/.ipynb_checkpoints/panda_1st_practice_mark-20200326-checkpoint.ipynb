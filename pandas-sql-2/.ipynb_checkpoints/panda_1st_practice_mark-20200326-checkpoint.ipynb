{
 "cells": [
  {
   "cell_type": "code",
   "execution_count": 2,
   "metadata": {},
   "outputs": [],
   "source": [
    "import pandas as pd"
   ]
  },
  {
   "cell_type": "code",
   "execution_count": 3,
   "metadata": {},
   "outputs": [],
   "source": [
    "import numpy as np"
   ]
  },
  {
   "cell_type": "code",
   "execution_count": 4,
   "metadata": {},
   "outputs": [
    {
     "data": {
      "text/plain": [
       "'1.0.1'"
      ]
     },
     "execution_count": 4,
     "metadata": {},
     "output_type": "execute_result"
    }
   ],
   "source": [
    "pd.__version__"
   ]
  },
  {
   "cell_type": "code",
   "execution_count": 6,
   "metadata": {},
   "outputs": [],
   "source": [
    "order_data = pd.read_csv('order.csv')"
   ]
  },
  {
   "cell_type": "code",
   "execution_count": 7,
   "metadata": {},
   "outputs": [
    {
     "data": {
      "text/html": [
       "<div>\n",
       "<style scoped>\n",
       "    .dataframe tbody tr th:only-of-type {\n",
       "        vertical-align: middle;\n",
       "    }\n",
       "\n",
       "    .dataframe tbody tr th {\n",
       "        vertical-align: top;\n",
       "    }\n",
       "\n",
       "    .dataframe thead th {\n",
       "        text-align: right;\n",
       "    }\n",
       "</style>\n",
       "<table border=\"1\" class=\"dataframe\">\n",
       "  <thead>\n",
       "    <tr style=\"text-align: right;\">\n",
       "      <th></th>\n",
       "      <th>1</th>\n",
       "      <th>2019-08-01 09:15:00</th>\n",
       "      <th>10005</th>\n",
       "      <th>20190801091540</th>\n",
       "      <th>48.43</th>\n",
       "    </tr>\n",
       "  </thead>\n",
       "  <tbody>\n",
       "    <tr>\n",
       "      <th>0</th>\n",
       "      <td>2</td>\n",
       "      <td>2019-08-01 10:00:00</td>\n",
       "      <td>10001</td>\n",
       "      <td>20190801100006</td>\n",
       "      <td>89.33</td>\n",
       "    </tr>\n",
       "    <tr>\n",
       "      <th>1</th>\n",
       "      <td>3</td>\n",
       "      <td>2019-08-01 10:04:00</td>\n",
       "      <td>10003</td>\n",
       "      <td>20190801091540</td>\n",
       "      <td>63.86</td>\n",
       "    </tr>\n",
       "    <tr>\n",
       "      <th>2</th>\n",
       "      <td>4</td>\n",
       "      <td>2019-08-01 12:17:00</td>\n",
       "      <td>10002</td>\n",
       "      <td>20190801121742</td>\n",
       "      <td>3.16</td>\n",
       "    </tr>\n",
       "    <tr>\n",
       "      <th>3</th>\n",
       "      <td>5</td>\n",
       "      <td>2019-08-01 14:05:00</td>\n",
       "      <td>10001</td>\n",
       "      <td>20190801140515</td>\n",
       "      <td>87.15</td>\n",
       "    </tr>\n",
       "    <tr>\n",
       "      <th>4</th>\n",
       "      <td>6</td>\n",
       "      <td>2019-08-01 14:05:00</td>\n",
       "      <td>10004</td>\n",
       "      <td>20190801140529</td>\n",
       "      <td>88.65</td>\n",
       "    </tr>\n",
       "    <tr>\n",
       "      <th>...</th>\n",
       "      <td>...</td>\n",
       "      <td>...</td>\n",
       "      <td>...</td>\n",
       "      <td>...</td>\n",
       "      <td>...</td>\n",
       "    </tr>\n",
       "    <tr>\n",
       "      <th>77</th>\n",
       "      <td>79</td>\n",
       "      <td>2019-08-10 19:10:00</td>\n",
       "      <td>10003</td>\n",
       "      <td>20190810191026</td>\n",
       "      <td>68.86</td>\n",
       "    </tr>\n",
       "    <tr>\n",
       "      <th>78</th>\n",
       "      <td>80</td>\n",
       "      <td>2019-08-10 19:14:00</td>\n",
       "      <td>10002</td>\n",
       "      <td>20190810191433</td>\n",
       "      <td>68.07</td>\n",
       "    </tr>\n",
       "    <tr>\n",
       "      <th>79</th>\n",
       "      <td>81</td>\n",
       "      <td>2019-08-11 15:11:00</td>\n",
       "      <td>10007</td>\n",
       "      <td>20190811151111</td>\n",
       "      <td>52.76</td>\n",
       "    </tr>\n",
       "    <tr>\n",
       "      <th>80</th>\n",
       "      <td>82</td>\n",
       "      <td>2019-08-12 15:16:00</td>\n",
       "      <td>10007</td>\n",
       "      <td>20190812151638</td>\n",
       "      <td>61.90</td>\n",
       "    </tr>\n",
       "    <tr>\n",
       "      <th>81</th>\n",
       "      <td>83</td>\n",
       "      <td>2019-08-13 15:14:00</td>\n",
       "      <td>10002</td>\n",
       "      <td>20190813151443</td>\n",
       "      <td>46.87</td>\n",
       "    </tr>\n",
       "  </tbody>\n",
       "</table>\n",
       "<p>82 rows × 5 columns</p>\n",
       "</div>"
      ],
      "text/plain": [
       "     1  2019-08-01 09:15:00  10005  20190801091540  48.43\n",
       "0    2  2019-08-01 10:00:00  10001  20190801100006  89.33\n",
       "1    3  2019-08-01 10:04:00  10003  20190801091540  63.86\n",
       "2    4  2019-08-01 12:17:00  10002  20190801121742   3.16\n",
       "3    5  2019-08-01 14:05:00  10001  20190801140515  87.15\n",
       "4    6  2019-08-01 14:05:00  10004  20190801140529  88.65\n",
       "..  ..                  ...    ...             ...    ...\n",
       "77  79  2019-08-10 19:10:00  10003  20190810191026  68.86\n",
       "78  80  2019-08-10 19:14:00  10002  20190810191433  68.07\n",
       "79  81  2019-08-11 15:11:00  10007  20190811151111  52.76\n",
       "80  82  2019-08-12 15:16:00  10007  20190812151638  61.90\n",
       "81  83  2019-08-13 15:14:00  10002  20190813151443  46.87\n",
       "\n",
       "[82 rows x 5 columns]"
      ]
     },
     "execution_count": 7,
     "metadata": {},
     "output_type": "execute_result"
    }
   ],
   "source": [
    "order_data"
   ]
  },
  {
   "cell_type": "code",
   "execution_count": null,
   "metadata": {},
   "outputs": [],
   "source": [
    "order['dt'] = order['ts']"
   ]
  }
 ],
 "metadata": {
  "kernelspec": {
   "display_name": "Python 3",
   "language": "python",
   "name": "python3"
  },
  "language_info": {
   "codemirror_mode": {
    "name": "ipython",
    "version": 3
   },
   "file_extension": ".py",
   "mimetype": "text/x-python",
   "name": "python",
   "nbconvert_exporter": "python",
   "pygments_lexer": "ipython3",
   "version": "3.7.4"
  }
 },
 "nbformat": 4,
 "nbformat_minor": 4
}

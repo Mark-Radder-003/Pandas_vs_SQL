{
 "cells": [
  {
   "cell_type": "markdown",
   "metadata": {},
   "source": [
    "# Pandas_vs_SQL_1_2\n",
    "- join funcation\n",
    "- uinon funcation\n",
    "- sort funcation\n",
    "- case funcation"
   ]
  },
  {
   "cell_type": "code",
   "execution_count": 4,
   "metadata": {},
   "outputs": [],
   "source": [
    "import pandas as pd"
   ]
  },
  {
   "cell_type": "code",
   "execution_count": 5,
   "metadata": {},
   "outputs": [],
   "source": [
    "import numpy as np"
   ]
  },
  {
   "cell_type": "code",
   "execution_count": 6,
   "metadata": {},
   "outputs": [
    {
     "output_type": "execute_result",
     "data": {
      "text/plain": "'1.0.1'"
     },
     "metadata": {},
     "execution_count": 6
    }
   ],
   "source": [
    "pd.__version__"
   ]
  },
  {
   "cell_type": "code",
   "execution_count": 7,
   "metadata": {},
   "outputs": [],
   "source": [
    "#import data\n",
    "order_data = pd.read_csv('order.csv')"
   ]
  },
  {
   "cell_type": "markdown",
   "metadata": {},
   "source": [
    "# join"
   ]
  },
  {
   "cell_type": "code",
   "execution_count": 8,
   "metadata": {},
   "outputs": [
    {
     "output_type": "execute_result",
     "data": {
      "text/plain": "   id    uid username  age\n0   1  10001     nick   23\n1   2  10002      bob   24\n2   3  10003    david   17\n3   4  10004    alice   29\n4   5  10005      tom   30\n5   6  10006      jim   43\n6   7  10007    jimmy   41\n7   8  10008     john   28\n8   9  10009    frank   20",
      "text/html": "<div>\n<style scoped>\n    .dataframe tbody tr th:only-of-type {\n        vertical-align: middle;\n    }\n\n    .dataframe tbody tr th {\n        vertical-align: top;\n    }\n\n    .dataframe thead th {\n        text-align: right;\n    }\n</style>\n<table border=\"1\" class=\"dataframe\">\n  <thead>\n    <tr style=\"text-align: right;\">\n      <th></th>\n      <th>id</th>\n      <th>uid</th>\n      <th>username</th>\n      <th>age</th>\n    </tr>\n  </thead>\n  <tbody>\n    <tr>\n      <th>0</th>\n      <td>1</td>\n      <td>10001</td>\n      <td>nick</td>\n      <td>23</td>\n    </tr>\n    <tr>\n      <th>1</th>\n      <td>2</td>\n      <td>10002</td>\n      <td>bob</td>\n      <td>24</td>\n    </tr>\n    <tr>\n      <th>2</th>\n      <td>3</td>\n      <td>10003</td>\n      <td>david</td>\n      <td>17</td>\n    </tr>\n    <tr>\n      <th>3</th>\n      <td>4</td>\n      <td>10004</td>\n      <td>alice</td>\n      <td>29</td>\n    </tr>\n    <tr>\n      <th>4</th>\n      <td>5</td>\n      <td>10005</td>\n      <td>tom</td>\n      <td>30</td>\n    </tr>\n    <tr>\n      <th>5</th>\n      <td>6</td>\n      <td>10006</td>\n      <td>jim</td>\n      <td>43</td>\n    </tr>\n    <tr>\n      <th>6</th>\n      <td>7</td>\n      <td>10007</td>\n      <td>jimmy</td>\n      <td>41</td>\n    </tr>\n    <tr>\n      <th>7</th>\n      <td>8</td>\n      <td>10008</td>\n      <td>john</td>\n      <td>28</td>\n    </tr>\n    <tr>\n      <th>8</th>\n      <td>9</td>\n      <td>10009</td>\n      <td>frank</td>\n      <td>20</td>\n    </tr>\n  </tbody>\n</table>\n</div>"
     },
     "metadata": {},
     "execution_count": 8
    }
   ],
   "source": [
    "# import csv\n",
    "## load user_data\n",
    "user_data =pd.read_csv('user.csv')\n",
    "user_data"
   ]
  },
  {
   "cell_type": "markdown",
   "metadata": {},
   "source": [
    "### pandas join\n",
    "- merge funcation\n",
    "    - 'how' means join type"
   ]
  },
  {
   "cell_type": "markdown",
   "metadata": {},
   "source": [
    "## left join\n",
    ">\n",
    "select * \n",
    "from user_data\n",
    "left join order_data\n",
    "    on user_data.uid = order_data.uid"
   ]
  },
  {
   "cell_type": "code",
   "execution_count": 9,
   "metadata": {},
   "outputs": [
    {
     "output_type": "execute_result",
     "data": {
      "text/plain": "    id_x    uid username  age  id_y               ts         orderid  amount\n0      1  10001     nick   23     2   2019/8/1 10:00  20190801100006   89.33\n1      1  10001     nick   23     5   2019/8/1 14:05  20190801140515   87.15\n2      1  10001     nick   23    10   2019/8/2 15:18  20190802151834   71.38\n3      1  10001     nick   23    16   2019/8/2 20:08  20190802200816   82.12\n4      1  10001     nick   23    25   2019/8/4 12:05  20190804120513   39.76\n..   ...    ...      ...  ...   ...              ...             ...     ...\n78     9  10009    frank   20    39   2019/8/6 12:05  20190806120531   73.56\n79     9  10009    frank   20    48   2019/8/7 17:17  20190807171717   57.67\n80     9  10009    frank   20    49   2019/8/7 19:03  20190807190318   50.73\n81     9  10009    frank   20    59   2019/8/9 10:11  20190809101113   79.49\n82     9  10009    frank   20    76  2019/8/10 17:06  20190810170641   31.54\n\n[83 rows x 8 columns]",
      "text/html": "<div>\n<style scoped>\n    .dataframe tbody tr th:only-of-type {\n        vertical-align: middle;\n    }\n\n    .dataframe tbody tr th {\n        vertical-align: top;\n    }\n\n    .dataframe thead th {\n        text-align: right;\n    }\n</style>\n<table border=\"1\" class=\"dataframe\">\n  <thead>\n    <tr style=\"text-align: right;\">\n      <th></th>\n      <th>id_x</th>\n      <th>uid</th>\n      <th>username</th>\n      <th>age</th>\n      <th>id_y</th>\n      <th>ts</th>\n      <th>orderid</th>\n      <th>amount</th>\n    </tr>\n  </thead>\n  <tbody>\n    <tr>\n      <th>0</th>\n      <td>1</td>\n      <td>10001</td>\n      <td>nick</td>\n      <td>23</td>\n      <td>2</td>\n      <td>2019/8/1 10:00</td>\n      <td>20190801100006</td>\n      <td>89.33</td>\n    </tr>\n    <tr>\n      <th>1</th>\n      <td>1</td>\n      <td>10001</td>\n      <td>nick</td>\n      <td>23</td>\n      <td>5</td>\n      <td>2019/8/1 14:05</td>\n      <td>20190801140515</td>\n      <td>87.15</td>\n    </tr>\n    <tr>\n      <th>2</th>\n      <td>1</td>\n      <td>10001</td>\n      <td>nick</td>\n      <td>23</td>\n      <td>10</td>\n      <td>2019/8/2 15:18</td>\n      <td>20190802151834</td>\n      <td>71.38</td>\n    </tr>\n    <tr>\n      <th>3</th>\n      <td>1</td>\n      <td>10001</td>\n      <td>nick</td>\n      <td>23</td>\n      <td>16</td>\n      <td>2019/8/2 20:08</td>\n      <td>20190802200816</td>\n      <td>82.12</td>\n    </tr>\n    <tr>\n      <th>4</th>\n      <td>1</td>\n      <td>10001</td>\n      <td>nick</td>\n      <td>23</td>\n      <td>25</td>\n      <td>2019/8/4 12:05</td>\n      <td>20190804120513</td>\n      <td>39.76</td>\n    </tr>\n    <tr>\n      <th>...</th>\n      <td>...</td>\n      <td>...</td>\n      <td>...</td>\n      <td>...</td>\n      <td>...</td>\n      <td>...</td>\n      <td>...</td>\n      <td>...</td>\n    </tr>\n    <tr>\n      <th>78</th>\n      <td>9</td>\n      <td>10009</td>\n      <td>frank</td>\n      <td>20</td>\n      <td>39</td>\n      <td>2019/8/6 12:05</td>\n      <td>20190806120531</td>\n      <td>73.56</td>\n    </tr>\n    <tr>\n      <th>79</th>\n      <td>9</td>\n      <td>10009</td>\n      <td>frank</td>\n      <td>20</td>\n      <td>48</td>\n      <td>2019/8/7 17:17</td>\n      <td>20190807171717</td>\n      <td>57.67</td>\n    </tr>\n    <tr>\n      <th>80</th>\n      <td>9</td>\n      <td>10009</td>\n      <td>frank</td>\n      <td>20</td>\n      <td>49</td>\n      <td>2019/8/7 19:03</td>\n      <td>20190807190318</td>\n      <td>50.73</td>\n    </tr>\n    <tr>\n      <th>81</th>\n      <td>9</td>\n      <td>10009</td>\n      <td>frank</td>\n      <td>20</td>\n      <td>59</td>\n      <td>2019/8/9 10:11</td>\n      <td>20190809101113</td>\n      <td>79.49</td>\n    </tr>\n    <tr>\n      <th>82</th>\n      <td>9</td>\n      <td>10009</td>\n      <td>frank</td>\n      <td>20</td>\n      <td>76</td>\n      <td>2019/8/10 17:06</td>\n      <td>20190810170641</td>\n      <td>31.54</td>\n    </tr>\n  </tbody>\n</table>\n<p>83 rows × 8 columns</p>\n</div>"
     },
     "metadata": {},
     "execution_count": 9
    }
   ],
   "source": [
    "pd.merge (user_data, order_data, on = 'uid', how = 'left')"
   ]
  },
  {
   "cell_type": "markdown",
   "metadata": {},
   "source": [
    "## inner join\n",
    ">\n",
    "select * \n",
    "from user_data\n",
    "inner join order_data\n",
    "    on user_data.uid = order_data.uid"
   ]
  },
  {
   "cell_type": "code",
   "execution_count": 10,
   "metadata": {},
   "outputs": [
    {
     "output_type": "execute_result",
     "data": {
      "text/plain": "    id_x    uid username  age  id_y               ts         orderid  amount\n0      1  10001     nick   23     2   2019/8/1 10:00  20190801100006   89.33\n1      1  10001     nick   23     5   2019/8/1 14:05  20190801140515   87.15\n2      1  10001     nick   23    10   2019/8/2 15:18  20190802151834   71.38\n3      1  10001     nick   23    16   2019/8/2 20:08  20190802200816   82.12\n4      1  10001     nick   23    25   2019/8/4 12:05  20190804120513   39.76\n..   ...    ...      ...  ...   ...              ...             ...     ...\n78     9  10009    frank   20    39   2019/8/6 12:05  20190806120531   73.56\n79     9  10009    frank   20    48   2019/8/7 17:17  20190807171717   57.67\n80     9  10009    frank   20    49   2019/8/7 19:03  20190807190318   50.73\n81     9  10009    frank   20    59   2019/8/9 10:11  20190809101113   79.49\n82     9  10009    frank   20    76  2019/8/10 17:06  20190810170641   31.54\n\n[83 rows x 8 columns]",
      "text/html": "<div>\n<style scoped>\n    .dataframe tbody tr th:only-of-type {\n        vertical-align: middle;\n    }\n\n    .dataframe tbody tr th {\n        vertical-align: top;\n    }\n\n    .dataframe thead th {\n        text-align: right;\n    }\n</style>\n<table border=\"1\" class=\"dataframe\">\n  <thead>\n    <tr style=\"text-align: right;\">\n      <th></th>\n      <th>id_x</th>\n      <th>uid</th>\n      <th>username</th>\n      <th>age</th>\n      <th>id_y</th>\n      <th>ts</th>\n      <th>orderid</th>\n      <th>amount</th>\n    </tr>\n  </thead>\n  <tbody>\n    <tr>\n      <th>0</th>\n      <td>1</td>\n      <td>10001</td>\n      <td>nick</td>\n      <td>23</td>\n      <td>2</td>\n      <td>2019/8/1 10:00</td>\n      <td>20190801100006</td>\n      <td>89.33</td>\n    </tr>\n    <tr>\n      <th>1</th>\n      <td>1</td>\n      <td>10001</td>\n      <td>nick</td>\n      <td>23</td>\n      <td>5</td>\n      <td>2019/8/1 14:05</td>\n      <td>20190801140515</td>\n      <td>87.15</td>\n    </tr>\n    <tr>\n      <th>2</th>\n      <td>1</td>\n      <td>10001</td>\n      <td>nick</td>\n      <td>23</td>\n      <td>10</td>\n      <td>2019/8/2 15:18</td>\n      <td>20190802151834</td>\n      <td>71.38</td>\n    </tr>\n    <tr>\n      <th>3</th>\n      <td>1</td>\n      <td>10001</td>\n      <td>nick</td>\n      <td>23</td>\n      <td>16</td>\n      <td>2019/8/2 20:08</td>\n      <td>20190802200816</td>\n      <td>82.12</td>\n    </tr>\n    <tr>\n      <th>4</th>\n      <td>1</td>\n      <td>10001</td>\n      <td>nick</td>\n      <td>23</td>\n      <td>25</td>\n      <td>2019/8/4 12:05</td>\n      <td>20190804120513</td>\n      <td>39.76</td>\n    </tr>\n    <tr>\n      <th>...</th>\n      <td>...</td>\n      <td>...</td>\n      <td>...</td>\n      <td>...</td>\n      <td>...</td>\n      <td>...</td>\n      <td>...</td>\n      <td>...</td>\n    </tr>\n    <tr>\n      <th>78</th>\n      <td>9</td>\n      <td>10009</td>\n      <td>frank</td>\n      <td>20</td>\n      <td>39</td>\n      <td>2019/8/6 12:05</td>\n      <td>20190806120531</td>\n      <td>73.56</td>\n    </tr>\n    <tr>\n      <th>79</th>\n      <td>9</td>\n      <td>10009</td>\n      <td>frank</td>\n      <td>20</td>\n      <td>48</td>\n      <td>2019/8/7 17:17</td>\n      <td>20190807171717</td>\n      <td>57.67</td>\n    </tr>\n    <tr>\n      <th>80</th>\n      <td>9</td>\n      <td>10009</td>\n      <td>frank</td>\n      <td>20</td>\n      <td>49</td>\n      <td>2019/8/7 19:03</td>\n      <td>20190807190318</td>\n      <td>50.73</td>\n    </tr>\n    <tr>\n      <th>81</th>\n      <td>9</td>\n      <td>10009</td>\n      <td>frank</td>\n      <td>20</td>\n      <td>59</td>\n      <td>2019/8/9 10:11</td>\n      <td>20190809101113</td>\n      <td>79.49</td>\n    </tr>\n    <tr>\n      <th>82</th>\n      <td>9</td>\n      <td>10009</td>\n      <td>frank</td>\n      <td>20</td>\n      <td>76</td>\n      <td>2019/8/10 17:06</td>\n      <td>20190810170641</td>\n      <td>31.54</td>\n    </tr>\n  </tbody>\n</table>\n<p>83 rows × 8 columns</p>\n</div>"
     },
     "metadata": {},
     "execution_count": 10
    }
   ],
   "source": [
    "pd.merge (user_data, order_data, on = 'uid', how = 'inner')"
   ]
  },
  {
   "cell_type": "markdown",
   "metadata": {},
   "source": [
    "## outer join\n",
    ">\n",
    "select * \n",
    "from user_data\n",
    "outer join order_data\n",
    "    on user_data.uid = order_data.uid"
   ]
  },
  {
   "cell_type": "code",
   "execution_count": 11,
   "metadata": {},
   "outputs": [
    {
     "output_type": "execute_result",
     "data": {
      "text/plain": "    id_x    uid username  age  id_y               ts         orderid  amount\n0      1  10001     nick   23     2   2019/8/1 10:00  20190801100006   89.33\n1      1  10001     nick   23     5   2019/8/1 14:05  20190801140515   87.15\n2      1  10001     nick   23    10   2019/8/2 15:18  20190802151834   71.38\n3      1  10001     nick   23    16   2019/8/2 20:08  20190802200816   82.12\n4      1  10001     nick   23    25   2019/8/4 12:05  20190804120513   39.76\n..   ...    ...      ...  ...   ...              ...             ...     ...\n78     9  10009    frank   20    39   2019/8/6 12:05  20190806120531   73.56\n79     9  10009    frank   20    48   2019/8/7 17:17  20190807171717   57.67\n80     9  10009    frank   20    49   2019/8/7 19:03  20190807190318   50.73\n81     9  10009    frank   20    59   2019/8/9 10:11  20190809101113   79.49\n82     9  10009    frank   20    76  2019/8/10 17:06  20190810170641   31.54\n\n[83 rows x 8 columns]",
      "text/html": "<div>\n<style scoped>\n    .dataframe tbody tr th:only-of-type {\n        vertical-align: middle;\n    }\n\n    .dataframe tbody tr th {\n        vertical-align: top;\n    }\n\n    .dataframe thead th {\n        text-align: right;\n    }\n</style>\n<table border=\"1\" class=\"dataframe\">\n  <thead>\n    <tr style=\"text-align: right;\">\n      <th></th>\n      <th>id_x</th>\n      <th>uid</th>\n      <th>username</th>\n      <th>age</th>\n      <th>id_y</th>\n      <th>ts</th>\n      <th>orderid</th>\n      <th>amount</th>\n    </tr>\n  </thead>\n  <tbody>\n    <tr>\n      <th>0</th>\n      <td>1</td>\n      <td>10001</td>\n      <td>nick</td>\n      <td>23</td>\n      <td>2</td>\n      <td>2019/8/1 10:00</td>\n      <td>20190801100006</td>\n      <td>89.33</td>\n    </tr>\n    <tr>\n      <th>1</th>\n      <td>1</td>\n      <td>10001</td>\n      <td>nick</td>\n      <td>23</td>\n      <td>5</td>\n      <td>2019/8/1 14:05</td>\n      <td>20190801140515</td>\n      <td>87.15</td>\n    </tr>\n    <tr>\n      <th>2</th>\n      <td>1</td>\n      <td>10001</td>\n      <td>nick</td>\n      <td>23</td>\n      <td>10</td>\n      <td>2019/8/2 15:18</td>\n      <td>20190802151834</td>\n      <td>71.38</td>\n    </tr>\n    <tr>\n      <th>3</th>\n      <td>1</td>\n      <td>10001</td>\n      <td>nick</td>\n      <td>23</td>\n      <td>16</td>\n      <td>2019/8/2 20:08</td>\n      <td>20190802200816</td>\n      <td>82.12</td>\n    </tr>\n    <tr>\n      <th>4</th>\n      <td>1</td>\n      <td>10001</td>\n      <td>nick</td>\n      <td>23</td>\n      <td>25</td>\n      <td>2019/8/4 12:05</td>\n      <td>20190804120513</td>\n      <td>39.76</td>\n    </tr>\n    <tr>\n      <th>...</th>\n      <td>...</td>\n      <td>...</td>\n      <td>...</td>\n      <td>...</td>\n      <td>...</td>\n      <td>...</td>\n      <td>...</td>\n      <td>...</td>\n    </tr>\n    <tr>\n      <th>78</th>\n      <td>9</td>\n      <td>10009</td>\n      <td>frank</td>\n      <td>20</td>\n      <td>39</td>\n      <td>2019/8/6 12:05</td>\n      <td>20190806120531</td>\n      <td>73.56</td>\n    </tr>\n    <tr>\n      <th>79</th>\n      <td>9</td>\n      <td>10009</td>\n      <td>frank</td>\n      <td>20</td>\n      <td>48</td>\n      <td>2019/8/7 17:17</td>\n      <td>20190807171717</td>\n      <td>57.67</td>\n    </tr>\n    <tr>\n      <th>80</th>\n      <td>9</td>\n      <td>10009</td>\n      <td>frank</td>\n      <td>20</td>\n      <td>49</td>\n      <td>2019/8/7 19:03</td>\n      <td>20190807190318</td>\n      <td>50.73</td>\n    </tr>\n    <tr>\n      <th>81</th>\n      <td>9</td>\n      <td>10009</td>\n      <td>frank</td>\n      <td>20</td>\n      <td>59</td>\n      <td>2019/8/9 10:11</td>\n      <td>20190809101113</td>\n      <td>79.49</td>\n    </tr>\n    <tr>\n      <th>82</th>\n      <td>9</td>\n      <td>10009</td>\n      <td>frank</td>\n      <td>20</td>\n      <td>76</td>\n      <td>2019/8/10 17:06</td>\n      <td>20190810170641</td>\n      <td>31.54</td>\n    </tr>\n  </tbody>\n</table>\n<p>83 rows × 8 columns</p>\n</div>"
     },
     "metadata": {},
     "execution_count": 11
    }
   ],
   "source": [
    "pd.merge (user_data, order_data, on = 'uid', how = 'outer')"
   ]
  },
  {
   "cell_type": "markdown",
   "metadata": {},
   "source": [
    "## right join\n",
    ">\n",
    "select * \n",
    "from user_data\n",
    "right join order_data\n",
    "    on user_data.uid = order_data.uid"
   ]
  },
  {
   "cell_type": "code",
   "execution_count": 12,
   "metadata": {},
   "outputs": [
    {
     "output_type": "execute_result",
     "data": {
      "text/plain": "    id_x    uid username  age  id_y               ts         orderid  amount\n0      1  10001     nick   23     2   2019/8/1 10:00  20190801100006   89.33\n1      1  10001     nick   23     5   2019/8/1 14:05  20190801140515   87.15\n2      1  10001     nick   23    10   2019/8/2 15:18  20190802151834   71.38\n3      1  10001     nick   23    16   2019/8/2 20:08  20190802200816   82.12\n4      1  10001     nick   23    25   2019/8/4 12:05  20190804120513   39.76\n..   ...    ...      ...  ...   ...              ...             ...     ...\n78     9  10009    frank   20    39   2019/8/6 12:05  20190806120531   73.56\n79     9  10009    frank   20    48   2019/8/7 17:17  20190807171717   57.67\n80     9  10009    frank   20    49   2019/8/7 19:03  20190807190318   50.73\n81     9  10009    frank   20    59   2019/8/9 10:11  20190809101113   79.49\n82     9  10009    frank   20    76  2019/8/10 17:06  20190810170641   31.54\n\n[83 rows x 8 columns]",
      "text/html": "<div>\n<style scoped>\n    .dataframe tbody tr th:only-of-type {\n        vertical-align: middle;\n    }\n\n    .dataframe tbody tr th {\n        vertical-align: top;\n    }\n\n    .dataframe thead th {\n        text-align: right;\n    }\n</style>\n<table border=\"1\" class=\"dataframe\">\n  <thead>\n    <tr style=\"text-align: right;\">\n      <th></th>\n      <th>id_x</th>\n      <th>uid</th>\n      <th>username</th>\n      <th>age</th>\n      <th>id_y</th>\n      <th>ts</th>\n      <th>orderid</th>\n      <th>amount</th>\n    </tr>\n  </thead>\n  <tbody>\n    <tr>\n      <th>0</th>\n      <td>1</td>\n      <td>10001</td>\n      <td>nick</td>\n      <td>23</td>\n      <td>2</td>\n      <td>2019/8/1 10:00</td>\n      <td>20190801100006</td>\n      <td>89.33</td>\n    </tr>\n    <tr>\n      <th>1</th>\n      <td>1</td>\n      <td>10001</td>\n      <td>nick</td>\n      <td>23</td>\n      <td>5</td>\n      <td>2019/8/1 14:05</td>\n      <td>20190801140515</td>\n      <td>87.15</td>\n    </tr>\n    <tr>\n      <th>2</th>\n      <td>1</td>\n      <td>10001</td>\n      <td>nick</td>\n      <td>23</td>\n      <td>10</td>\n      <td>2019/8/2 15:18</td>\n      <td>20190802151834</td>\n      <td>71.38</td>\n    </tr>\n    <tr>\n      <th>3</th>\n      <td>1</td>\n      <td>10001</td>\n      <td>nick</td>\n      <td>23</td>\n      <td>16</td>\n      <td>2019/8/2 20:08</td>\n      <td>20190802200816</td>\n      <td>82.12</td>\n    </tr>\n    <tr>\n      <th>4</th>\n      <td>1</td>\n      <td>10001</td>\n      <td>nick</td>\n      <td>23</td>\n      <td>25</td>\n      <td>2019/8/4 12:05</td>\n      <td>20190804120513</td>\n      <td>39.76</td>\n    </tr>\n    <tr>\n      <th>...</th>\n      <td>...</td>\n      <td>...</td>\n      <td>...</td>\n      <td>...</td>\n      <td>...</td>\n      <td>...</td>\n      <td>...</td>\n      <td>...</td>\n    </tr>\n    <tr>\n      <th>78</th>\n      <td>9</td>\n      <td>10009</td>\n      <td>frank</td>\n      <td>20</td>\n      <td>39</td>\n      <td>2019/8/6 12:05</td>\n      <td>20190806120531</td>\n      <td>73.56</td>\n    </tr>\n    <tr>\n      <th>79</th>\n      <td>9</td>\n      <td>10009</td>\n      <td>frank</td>\n      <td>20</td>\n      <td>48</td>\n      <td>2019/8/7 17:17</td>\n      <td>20190807171717</td>\n      <td>57.67</td>\n    </tr>\n    <tr>\n      <th>80</th>\n      <td>9</td>\n      <td>10009</td>\n      <td>frank</td>\n      <td>20</td>\n      <td>49</td>\n      <td>2019/8/7 19:03</td>\n      <td>20190807190318</td>\n      <td>50.73</td>\n    </tr>\n    <tr>\n      <th>81</th>\n      <td>9</td>\n      <td>10009</td>\n      <td>frank</td>\n      <td>20</td>\n      <td>59</td>\n      <td>2019/8/9 10:11</td>\n      <td>20190809101113</td>\n      <td>79.49</td>\n    </tr>\n    <tr>\n      <th>82</th>\n      <td>9</td>\n      <td>10009</td>\n      <td>frank</td>\n      <td>20</td>\n      <td>76</td>\n      <td>2019/8/10 17:06</td>\n      <td>20190810170641</td>\n      <td>31.54</td>\n    </tr>\n  </tbody>\n</table>\n<p>83 rows × 8 columns</p>\n</div>"
     },
     "metadata": {},
     "execution_count": 12
    }
   ],
   "source": [
    "pd.merge (user_data, order_data, on = 'uid', how = 'right')"
   ]
  },
  {
   "cell_type": "markdown",
   "metadata": {},
   "source": [
    "## union funcation\n",
    "- union all\n",
    "- union \n"
   ]
  },
  {
   "cell_type": "code",
   "execution_count": 13,
   "metadata": {},
   "outputs": [],
   "source": [
    "#import csv\n",
    "## load order_data2\n",
    "order_data2 = pd.read_csv('order2.csv')"
   ]
  },
  {
   "cell_type": "markdown",
   "metadata": {},
   "source": [
    "### union all\n",
    "- union all = won't drop duplicates \n",
    "\n",
    "> select * from order_data\n",
    "union all\n",
    "select * from order_data2"
   ]
  },
  {
   "cell_type": "code",
   "execution_count": 14,
   "metadata": {},
   "outputs": [
    {
     "output_type": "execute_result",
     "data": {
      "text/plain": "     id                   ts    uid         orderid  amount\n0     1        2019/8/1 9:15  10005  20190801091540   48.43\n1     2       2019/8/1 10:00  10001  20190801100006   89.33\n2     3       2019/8/1 10:04  10003  20190801091540   63.86\n3     4       2019/8/1 12:17  10002  20190801121742    3.16\n4     5       2019/8/1 14:05  10001  20190801140515   87.15\n..  ...                  ...    ...             ...     ...\n82   83      2019/8/13 15:14  10002  20190813151443   46.87\n0   101      2019/8/10 19:24  10012  20190810191433   78.07\n1   102      2019/8/11 18:11  10017  20190811151111   82.76\n2   103      2019/8/12 15:36  10017  20190812151638   51.90\n3   104  2019/8/13  15:14843  10012  20190813151443   76.87\n\n[87 rows x 5 columns]",
      "text/html": "<div>\n<style scoped>\n    .dataframe tbody tr th:only-of-type {\n        vertical-align: middle;\n    }\n\n    .dataframe tbody tr th {\n        vertical-align: top;\n    }\n\n    .dataframe thead th {\n        text-align: right;\n    }\n</style>\n<table border=\"1\" class=\"dataframe\">\n  <thead>\n    <tr style=\"text-align: right;\">\n      <th></th>\n      <th>id</th>\n      <th>ts</th>\n      <th>uid</th>\n      <th>orderid</th>\n      <th>amount</th>\n    </tr>\n  </thead>\n  <tbody>\n    <tr>\n      <th>0</th>\n      <td>1</td>\n      <td>2019/8/1 9:15</td>\n      <td>10005</td>\n      <td>20190801091540</td>\n      <td>48.43</td>\n    </tr>\n    <tr>\n      <th>1</th>\n      <td>2</td>\n      <td>2019/8/1 10:00</td>\n      <td>10001</td>\n      <td>20190801100006</td>\n      <td>89.33</td>\n    </tr>\n    <tr>\n      <th>2</th>\n      <td>3</td>\n      <td>2019/8/1 10:04</td>\n      <td>10003</td>\n      <td>20190801091540</td>\n      <td>63.86</td>\n    </tr>\n    <tr>\n      <th>3</th>\n      <td>4</td>\n      <td>2019/8/1 12:17</td>\n      <td>10002</td>\n      <td>20190801121742</td>\n      <td>3.16</td>\n    </tr>\n    <tr>\n      <th>4</th>\n      <td>5</td>\n      <td>2019/8/1 14:05</td>\n      <td>10001</td>\n      <td>20190801140515</td>\n      <td>87.15</td>\n    </tr>\n    <tr>\n      <th>...</th>\n      <td>...</td>\n      <td>...</td>\n      <td>...</td>\n      <td>...</td>\n      <td>...</td>\n    </tr>\n    <tr>\n      <th>82</th>\n      <td>83</td>\n      <td>2019/8/13 15:14</td>\n      <td>10002</td>\n      <td>20190813151443</td>\n      <td>46.87</td>\n    </tr>\n    <tr>\n      <th>0</th>\n      <td>101</td>\n      <td>2019/8/10 19:24</td>\n      <td>10012</td>\n      <td>20190810191433</td>\n      <td>78.07</td>\n    </tr>\n    <tr>\n      <th>1</th>\n      <td>102</td>\n      <td>2019/8/11 18:11</td>\n      <td>10017</td>\n      <td>20190811151111</td>\n      <td>82.76</td>\n    </tr>\n    <tr>\n      <th>2</th>\n      <td>103</td>\n      <td>2019/8/12 15:36</td>\n      <td>10017</td>\n      <td>20190812151638</td>\n      <td>51.90</td>\n    </tr>\n    <tr>\n      <th>3</th>\n      <td>104</td>\n      <td>2019/8/13  15:14843</td>\n      <td>10012</td>\n      <td>20190813151443</td>\n      <td>76.87</td>\n    </tr>\n  </tbody>\n</table>\n<p>87 rows × 5 columns</p>\n</div>"
     },
     "metadata": {},
     "execution_count": 14
    }
   ],
   "source": [
    "order_union = pd.concat ([order_data, order_data2])\n",
    "order_union"
   ]
  },
  {
   "cell_type": "markdown",
   "metadata": {},
   "source": [
    "### union\n",
    "- union = drop duplicates \n",
    "\n",
    "> select * from order_data\n",
    "union\n",
    "select * from order_data2"
   ]
  },
  {
   "cell_type": "code",
   "execution_count": 15,
   "metadata": {},
   "outputs": [
    {
     "output_type": "execute_result",
     "data": {
      "text/plain": "     id                   ts    uid         orderid  amount\n0     1        2019/8/1 9:15  10005  20190801091540   48.43\n1     2       2019/8/1 10:00  10001  20190801100006   89.33\n2     3       2019/8/1 10:04  10003  20190801091540   63.86\n3     4       2019/8/1 12:17  10002  20190801121742    3.16\n4     5       2019/8/1 14:05  10001  20190801140515   87.15\n..  ...                  ...    ...             ...     ...\n82   83      2019/8/13 15:14  10002  20190813151443   46.87\n0   101      2019/8/10 19:24  10012  20190810191433   78.07\n1   102      2019/8/11 18:11  10017  20190811151111   82.76\n2   103      2019/8/12 15:36  10017  20190812151638   51.90\n3   104  2019/8/13  15:14843  10012  20190813151443   76.87\n\n[87 rows x 5 columns]",
      "text/html": "<div>\n<style scoped>\n    .dataframe tbody tr th:only-of-type {\n        vertical-align: middle;\n    }\n\n    .dataframe tbody tr th {\n        vertical-align: top;\n    }\n\n    .dataframe thead th {\n        text-align: right;\n    }\n</style>\n<table border=\"1\" class=\"dataframe\">\n  <thead>\n    <tr style=\"text-align: right;\">\n      <th></th>\n      <th>id</th>\n      <th>ts</th>\n      <th>uid</th>\n      <th>orderid</th>\n      <th>amount</th>\n    </tr>\n  </thead>\n  <tbody>\n    <tr>\n      <th>0</th>\n      <td>1</td>\n      <td>2019/8/1 9:15</td>\n      <td>10005</td>\n      <td>20190801091540</td>\n      <td>48.43</td>\n    </tr>\n    <tr>\n      <th>1</th>\n      <td>2</td>\n      <td>2019/8/1 10:00</td>\n      <td>10001</td>\n      <td>20190801100006</td>\n      <td>89.33</td>\n    </tr>\n    <tr>\n      <th>2</th>\n      <td>3</td>\n      <td>2019/8/1 10:04</td>\n      <td>10003</td>\n      <td>20190801091540</td>\n      <td>63.86</td>\n    </tr>\n    <tr>\n      <th>3</th>\n      <td>4</td>\n      <td>2019/8/1 12:17</td>\n      <td>10002</td>\n      <td>20190801121742</td>\n      <td>3.16</td>\n    </tr>\n    <tr>\n      <th>4</th>\n      <td>5</td>\n      <td>2019/8/1 14:05</td>\n      <td>10001</td>\n      <td>20190801140515</td>\n      <td>87.15</td>\n    </tr>\n    <tr>\n      <th>...</th>\n      <td>...</td>\n      <td>...</td>\n      <td>...</td>\n      <td>...</td>\n      <td>...</td>\n    </tr>\n    <tr>\n      <th>82</th>\n      <td>83</td>\n      <td>2019/8/13 15:14</td>\n      <td>10002</td>\n      <td>20190813151443</td>\n      <td>46.87</td>\n    </tr>\n    <tr>\n      <th>0</th>\n      <td>101</td>\n      <td>2019/8/10 19:24</td>\n      <td>10012</td>\n      <td>20190810191433</td>\n      <td>78.07</td>\n    </tr>\n    <tr>\n      <th>1</th>\n      <td>102</td>\n      <td>2019/8/11 18:11</td>\n      <td>10017</td>\n      <td>20190811151111</td>\n      <td>82.76</td>\n    </tr>\n    <tr>\n      <th>2</th>\n      <td>103</td>\n      <td>2019/8/12 15:36</td>\n      <td>10017</td>\n      <td>20190812151638</td>\n      <td>51.90</td>\n    </tr>\n    <tr>\n      <th>3</th>\n      <td>104</td>\n      <td>2019/8/13  15:14843</td>\n      <td>10012</td>\n      <td>20190813151443</td>\n      <td>76.87</td>\n    </tr>\n  </tbody>\n</table>\n<p>87 rows × 5 columns</p>\n</div>"
     },
     "metadata": {},
     "execution_count": 15
    }
   ],
   "source": [
    "order_union2 = pd.concat ([order_data, order_data2]).drop_duplicates()\n",
    "order_union2"
   ]
  },
  {
   "cell_type": "markdown",
   "metadata": {},
   "source": [
    "## sort funcation\n",
    "\n",
    "Pandas supports three kinds of sorting: sorting by index labels, sorting by column values, and sorting by a combination of both.\n",
    "\n",
    "- sort_values (for this )\n",
    "- sort_index\n"
   ]
  },
  {
   "cell_type": "markdown",
   "metadata": {},
   "source": [
    "## order_by\n",
    "> select uid, count(distinct orderid)\n",
    "from order_data\n",
    "group by uid\n",
    "order by 2"
   ]
  },
  {
   "cell_type": "code",
   "execution_count": 22,
   "metadata": {},
   "outputs": [
    {
     "output_type": "execute_result",
     "data": {
      "text/plain": "uid\n10002    17\n10003    13\n10009    11\n10005     9\n10001     9\n10008     8\n10004     8\n10007     7\n10006     1\nName: orderid, dtype: int64"
     },
     "metadata": {},
     "execution_count": 22
    }
   ],
   "source": [
    "order_data.groupby ('uid')['orderid'].nunique().sort_values(ascending = False)"
   ]
  },
  {
   "cell_type": "markdown",
   "metadata": {},
   "source": [
    "## order_by\n",
    "### np.size will drop duplicates\n",
    "> select \n",
    "    uid\n",
    "    , count(distinct orderid) as order_cnt\n",
    "    ,sum(amount) as sum_amount\n",
    "from order_data\n",
    "group by uid\n",
    "order by 2"
   ]
  },
  {
   "cell_type": "code",
   "execution_count": 17,
   "metadata": {},
   "outputs": [
    {
     "output_type": "execute_result",
     "data": {
      "text/plain": "       order_cnt  sum_amount\nuid                         \n10001          9      528.15\n10002         17      775.60\n10003         13      686.17\n10004          8      591.39\n10005          9      444.01\n10006          1       65.44\n10007          7      331.65\n10008          8      425.38\n10009         11      621.32",
      "text/html": "<div>\n<style scoped>\n    .dataframe tbody tr th:only-of-type {\n        vertical-align: middle;\n    }\n\n    .dataframe tbody tr th {\n        vertical-align: top;\n    }\n\n    .dataframe thead th {\n        text-align: right;\n    }\n</style>\n<table border=\"1\" class=\"dataframe\">\n  <thead>\n    <tr style=\"text-align: right;\">\n      <th></th>\n      <th>order_cnt</th>\n      <th>sum_amount</th>\n    </tr>\n    <tr>\n      <th>uid</th>\n      <th></th>\n      <th></th>\n    </tr>\n  </thead>\n  <tbody>\n    <tr>\n      <th>10001</th>\n      <td>9</td>\n      <td>528.15</td>\n    </tr>\n    <tr>\n      <th>10002</th>\n      <td>17</td>\n      <td>775.60</td>\n    </tr>\n    <tr>\n      <th>10003</th>\n      <td>13</td>\n      <td>686.17</td>\n    </tr>\n    <tr>\n      <th>10004</th>\n      <td>8</td>\n      <td>591.39</td>\n    </tr>\n    <tr>\n      <th>10005</th>\n      <td>9</td>\n      <td>444.01</td>\n    </tr>\n    <tr>\n      <th>10006</th>\n      <td>1</td>\n      <td>65.44</td>\n    </tr>\n    <tr>\n      <th>10007</th>\n      <td>7</td>\n      <td>331.65</td>\n    </tr>\n    <tr>\n      <th>10008</th>\n      <td>8</td>\n      <td>425.38</td>\n    </tr>\n    <tr>\n      <th>10009</th>\n      <td>11</td>\n      <td>621.32</td>\n    </tr>\n  </tbody>\n</table>\n</div>"
     },
     "metadata": {},
     "execution_count": 17
    }
   ],
   "source": [
    "order_df = order_data.groupby('uid').agg({'orderid' : np.size, 'amount' : np.sum})\n",
    "order_df.rename (columns= {'orderid' : 'order_cnt', 'amount' : 'sum_amount'}, inplace= True)\n",
    "order_df.sort_values (by = ['uid', 'sum_amount'], ascending = [True,False])"
   ]
  },
  {
   "cell_type": "markdown",
   "metadata": {},
   "source": [
    "## case funcation\n",
    "select\n",
    "    uid\n",
    "    ,order_cnt\n",
    "    ,case\n",
    "        when sum_amount < 300 then '(0-300)'\n",
    "        when sum_amount >= 300 and sum_amount < 600 then '(300-600)'\n",
    "        when sum_amount >= 600 and sum_amount < 900 then '(600-900)'\n",
    "        else 'other'\n",
    "    end as amt_interval\n",
    "\n",
    "from \n",
    "    (\n",
    "        \n",
    "        select\n",
    "            uid\n",
    "            ,count(distinct orderid) as order_cnt\n",
    "            ,sum(amount) as sum_amount\n",
    "        \n",
    "        from order_data\n",
    "        group by uid\n",
    "        order by \n",
    "            uid desc\n",
    "            , sum(amount)\n",
    "    ) t1"
   ]
  },
  {
   "cell_type": "code",
   "execution_count": 18,
   "metadata": {},
   "outputs": [],
   "source": [
    "def func(x):\n",
    "        if x < 300:\n",
    "            return '(0-300)'\n",
    "        elif x < 600:\n",
    "            return '(300,600)'\n",
    "        else:\n",
    "            return '(600,900)'"
   ]
  },
  {
   "cell_type": "code",
   "execution_count": 19,
   "metadata": {},
   "outputs": [
    {
     "output_type": "execute_result",
     "data": {
      "text/plain": "       order_cnt  sum_amount amt_intreval\nuid                                      \n10001          9      528.15    (300,600)\n10002         17      775.60    (600,900)\n10003         13      686.17    (600,900)\n10004          8      591.39    (300,600)\n10005          9      444.01    (300,600)\n10006          1       65.44      (0-300)\n10007          7      331.65    (300,600)\n10008          8      425.38    (300,600)\n10009         11      621.32    (600,900)",
      "text/html": "<div>\n<style scoped>\n    .dataframe tbody tr th:only-of-type {\n        vertical-align: middle;\n    }\n\n    .dataframe tbody tr th {\n        vertical-align: top;\n    }\n\n    .dataframe thead th {\n        text-align: right;\n    }\n</style>\n<table border=\"1\" class=\"dataframe\">\n  <thead>\n    <tr style=\"text-align: right;\">\n      <th></th>\n      <th>order_cnt</th>\n      <th>sum_amount</th>\n      <th>amt_intreval</th>\n    </tr>\n    <tr>\n      <th>uid</th>\n      <th></th>\n      <th></th>\n      <th></th>\n    </tr>\n  </thead>\n  <tbody>\n    <tr>\n      <th>10001</th>\n      <td>9</td>\n      <td>528.15</td>\n      <td>(300,600)</td>\n    </tr>\n    <tr>\n      <th>10002</th>\n      <td>17</td>\n      <td>775.60</td>\n      <td>(600,900)</td>\n    </tr>\n    <tr>\n      <th>10003</th>\n      <td>13</td>\n      <td>686.17</td>\n      <td>(600,900)</td>\n    </tr>\n    <tr>\n      <th>10004</th>\n      <td>8</td>\n      <td>591.39</td>\n      <td>(300,600)</td>\n    </tr>\n    <tr>\n      <th>10005</th>\n      <td>9</td>\n      <td>444.01</td>\n      <td>(300,600)</td>\n    </tr>\n    <tr>\n      <th>10006</th>\n      <td>1</td>\n      <td>65.44</td>\n      <td>(0-300)</td>\n    </tr>\n    <tr>\n      <th>10007</th>\n      <td>7</td>\n      <td>331.65</td>\n      <td>(300,600)</td>\n    </tr>\n    <tr>\n      <th>10008</th>\n      <td>8</td>\n      <td>425.38</td>\n      <td>(300,600)</td>\n    </tr>\n    <tr>\n      <th>10009</th>\n      <td>11</td>\n      <td>621.32</td>\n      <td>(600,900)</td>\n    </tr>\n  </tbody>\n</table>\n</div>"
     },
     "metadata": {},
     "execution_count": 19
    }
   ],
   "source": [
    "order_df['amt_intreval'] = order_df['sum_amount'].map(func)\n",
    "order_df"
   ]
  },
  {
   "cell_type": "code",
   "execution_count": 20,
   "metadata": {},
   "outputs": [
    {
     "output_type": "execute_result",
     "data": {
      "text/plain": "[(0.993, 3.333], (0.993, 3.333], (0.993, 3.333], (3.333, 5.667], (3.333, 5.667], (5.667, 8.0], (5.667, 8.0], (5.667, 8.0], (5.667, 8.0]]\nCategories (3, interval[float64]): [(0.993, 3.333] < (3.333, 5.667] < (5.667, 8.0]]"
     },
     "metadata": {},
     "execution_count": 20
    }
   ],
   "source": [
    "pd.cut(np.array([1,2,3,4,5,6,7,7,8]),3)"
   ]
  }
 ],
 "metadata": {
  "kernelspec": {
   "display_name": "Python 3",
   "language": "python",
   "name": "python3"
  },
  "language_info": {
   "codemirror_mode": {
    "name": "ipython",
    "version": 3
   },
   "file_extension": ".py",
   "mimetype": "text/x-python",
   "name": "python",
   "nbconvert_exporter": "python",
   "pygments_lexer": "ipython3",
   "version": "3.7.4-final"
  }
 },
 "nbformat": 4,
 "nbformat_minor": 4
}
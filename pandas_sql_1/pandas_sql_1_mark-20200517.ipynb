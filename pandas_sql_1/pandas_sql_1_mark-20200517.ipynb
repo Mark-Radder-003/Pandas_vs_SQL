{
 "cells": [
  {
   "cell_type": "markdown",
   "metadata": {},
   "source": [
    "# Pandas_vs_SQL_1\n",
    "- select,from,where\n",
    "- join"
   ]
  },
  {
   "cell_type": "code",
   "execution_count": 3,
   "metadata": {},
   "outputs": [],
   "source": [
    "import pandas as pd"
   ]
  },
  {
   "cell_type": "code",
   "execution_count": 4,
   "metadata": {},
   "outputs": [],
   "source": [
    "import numpy as np"
   ]
  },
  {
   "cell_type": "code",
   "execution_count": 5,
   "metadata": {},
   "outputs": [
    {
     "output_type": "execute_result",
     "data": {
      "text/plain": "'1.0.1'"
     },
     "metadata": {},
     "execution_count": 5
    }
   ],
   "source": [
    "pd.__version__"
   ]
  },
  {
   "cell_type": "code",
   "execution_count": 6,
   "metadata": {},
   "outputs": [],
   "source": [
    "#import data\n",
    "order_data = pd.read_csv('order.csv')"
   ]
  },
  {
   "cell_type": "markdown",
   "metadata": {},
   "source": [
    "## selet all in pandas\n",
    ">select * from t_order"
   ]
  },
  {
   "cell_type": "code",
   "execution_count": 7,
   "metadata": {},
   "outputs": [
    {
     "output_type": "execute_result",
     "data": {
      "text/plain": "    id               ts    uid         orderid  amount\n0    1    2019/8/1 9:15  10005  20190801091540   48.43\n1    2   2019/8/1 10:00  10001  20190801100006   89.33\n2    3   2019/8/1 10:04  10003  20190801091540   63.86\n3    4   2019/8/1 12:17  10002  20190801121742    3.16\n4    5   2019/8/1 14:05  10001  20190801140515   87.15\n..  ..              ...    ...             ...     ...\n78  79  2019/8/10 19:10  10003  20190810191026   68.86\n79  80  2019/8/10 19:14  10002  20190810191433   68.07\n80  81  2019/8/11 15:11  10007  20190811151111   52.76\n81  82  2019/8/12 15:16  10007  20190812151638   61.90\n82  83  2019/8/13 15:14  10002  20190813151443   46.87\n\n[83 rows x 5 columns]",
      "text/html": "<div>\n<style scoped>\n    .dataframe tbody tr th:only-of-type {\n        vertical-align: middle;\n    }\n\n    .dataframe tbody tr th {\n        vertical-align: top;\n    }\n\n    .dataframe thead th {\n        text-align: right;\n    }\n</style>\n<table border=\"1\" class=\"dataframe\">\n  <thead>\n    <tr style=\"text-align: right;\">\n      <th></th>\n      <th>id</th>\n      <th>ts</th>\n      <th>uid</th>\n      <th>orderid</th>\n      <th>amount</th>\n    </tr>\n  </thead>\n  <tbody>\n    <tr>\n      <th>0</th>\n      <td>1</td>\n      <td>2019/8/1 9:15</td>\n      <td>10005</td>\n      <td>20190801091540</td>\n      <td>48.43</td>\n    </tr>\n    <tr>\n      <th>1</th>\n      <td>2</td>\n      <td>2019/8/1 10:00</td>\n      <td>10001</td>\n      <td>20190801100006</td>\n      <td>89.33</td>\n    </tr>\n    <tr>\n      <th>2</th>\n      <td>3</td>\n      <td>2019/8/1 10:04</td>\n      <td>10003</td>\n      <td>20190801091540</td>\n      <td>63.86</td>\n    </tr>\n    <tr>\n      <th>3</th>\n      <td>4</td>\n      <td>2019/8/1 12:17</td>\n      <td>10002</td>\n      <td>20190801121742</td>\n      <td>3.16</td>\n    </tr>\n    <tr>\n      <th>4</th>\n      <td>5</td>\n      <td>2019/8/1 14:05</td>\n      <td>10001</td>\n      <td>20190801140515</td>\n      <td>87.15</td>\n    </tr>\n    <tr>\n      <th>...</th>\n      <td>...</td>\n      <td>...</td>\n      <td>...</td>\n      <td>...</td>\n      <td>...</td>\n    </tr>\n    <tr>\n      <th>78</th>\n      <td>79</td>\n      <td>2019/8/10 19:10</td>\n      <td>10003</td>\n      <td>20190810191026</td>\n      <td>68.86</td>\n    </tr>\n    <tr>\n      <th>79</th>\n      <td>80</td>\n      <td>2019/8/10 19:14</td>\n      <td>10002</td>\n      <td>20190810191433</td>\n      <td>68.07</td>\n    </tr>\n    <tr>\n      <th>80</th>\n      <td>81</td>\n      <td>2019/8/11 15:11</td>\n      <td>10007</td>\n      <td>20190811151111</td>\n      <td>52.76</td>\n    </tr>\n    <tr>\n      <th>81</th>\n      <td>82</td>\n      <td>2019/8/12 15:16</td>\n      <td>10007</td>\n      <td>20190812151638</td>\n      <td>61.90</td>\n    </tr>\n    <tr>\n      <th>82</th>\n      <td>83</td>\n      <td>2019/8/13 15:14</td>\n      <td>10002</td>\n      <td>20190813151443</td>\n      <td>46.87</td>\n    </tr>\n  </tbody>\n</table>\n<p>83 rows × 5 columns</p>\n</div>"
     },
     "metadata": {},
     "execution_count": 7
    }
   ],
   "source": [
    "order_data"
   ]
  },
  {
   "cell_type": "markdown",
   "metadata": {},
   "source": [
    "## selet all with limit rows in pandas\n",
    "\n",
    ">select * \n",
    "from t_order\n",
    "limit 100"
   ]
  },
  {
   "cell_type": "code",
   "execution_count": 8,
   "metadata": {},
   "outputs": [
    {
     "output_type": "execute_result",
     "data": {
      "text/plain": "    id               ts    uid         orderid  amount\n0    1    2019/8/1 9:15  10005  20190801091540   48.43\n1    2   2019/8/1 10:00  10001  20190801100006   89.33\n2    3   2019/8/1 10:04  10003  20190801091540   63.86\n3    4   2019/8/1 12:17  10002  20190801121742    3.16\n4    5   2019/8/1 14:05  10001  20190801140515   87.15\n..  ..              ...    ...             ...     ...\n78  79  2019/8/10 19:10  10003  20190810191026   68.86\n79  80  2019/8/10 19:14  10002  20190810191433   68.07\n80  81  2019/8/11 15:11  10007  20190811151111   52.76\n81  82  2019/8/12 15:16  10007  20190812151638   61.90\n82  83  2019/8/13 15:14  10002  20190813151443   46.87\n\n[83 rows x 5 columns]",
      "text/html": "<div>\n<style scoped>\n    .dataframe tbody tr th:only-of-type {\n        vertical-align: middle;\n    }\n\n    .dataframe tbody tr th {\n        vertical-align: top;\n    }\n\n    .dataframe thead th {\n        text-align: right;\n    }\n</style>\n<table border=\"1\" class=\"dataframe\">\n  <thead>\n    <tr style=\"text-align: right;\">\n      <th></th>\n      <th>id</th>\n      <th>ts</th>\n      <th>uid</th>\n      <th>orderid</th>\n      <th>amount</th>\n    </tr>\n  </thead>\n  <tbody>\n    <tr>\n      <th>0</th>\n      <td>1</td>\n      <td>2019/8/1 9:15</td>\n      <td>10005</td>\n      <td>20190801091540</td>\n      <td>48.43</td>\n    </tr>\n    <tr>\n      <th>1</th>\n      <td>2</td>\n      <td>2019/8/1 10:00</td>\n      <td>10001</td>\n      <td>20190801100006</td>\n      <td>89.33</td>\n    </tr>\n    <tr>\n      <th>2</th>\n      <td>3</td>\n      <td>2019/8/1 10:04</td>\n      <td>10003</td>\n      <td>20190801091540</td>\n      <td>63.86</td>\n    </tr>\n    <tr>\n      <th>3</th>\n      <td>4</td>\n      <td>2019/8/1 12:17</td>\n      <td>10002</td>\n      <td>20190801121742</td>\n      <td>3.16</td>\n    </tr>\n    <tr>\n      <th>4</th>\n      <td>5</td>\n      <td>2019/8/1 14:05</td>\n      <td>10001</td>\n      <td>20190801140515</td>\n      <td>87.15</td>\n    </tr>\n    <tr>\n      <th>...</th>\n      <td>...</td>\n      <td>...</td>\n      <td>...</td>\n      <td>...</td>\n      <td>...</td>\n    </tr>\n    <tr>\n      <th>78</th>\n      <td>79</td>\n      <td>2019/8/10 19:10</td>\n      <td>10003</td>\n      <td>20190810191026</td>\n      <td>68.86</td>\n    </tr>\n    <tr>\n      <th>79</th>\n      <td>80</td>\n      <td>2019/8/10 19:14</td>\n      <td>10002</td>\n      <td>20190810191433</td>\n      <td>68.07</td>\n    </tr>\n    <tr>\n      <th>80</th>\n      <td>81</td>\n      <td>2019/8/11 15:11</td>\n      <td>10007</td>\n      <td>20190811151111</td>\n      <td>52.76</td>\n    </tr>\n    <tr>\n      <th>81</th>\n      <td>82</td>\n      <td>2019/8/12 15:16</td>\n      <td>10007</td>\n      <td>20190812151638</td>\n      <td>61.90</td>\n    </tr>\n    <tr>\n      <th>82</th>\n      <td>83</td>\n      <td>2019/8/13 15:14</td>\n      <td>10002</td>\n      <td>20190813151443</td>\n      <td>46.87</td>\n    </tr>\n  </tbody>\n</table>\n<p>83 rows × 5 columns</p>\n</div>"
     },
     "metadata": {},
     "execution_count": 8
    }
   ],
   "source": [
    "order_data.head(100)"
   ]
  },
  {
   "cell_type": "markdown",
   "metadata": {},
   "source": [
    "## select specific colunm in pandas\n",
    ">select \n",
    "    colunm_name_1\n",
    "    ,colunm_name_2\n",
    "from order_data"
   ]
  },
  {
   "cell_type": "markdown",
   "metadata": {},
   "source": [
    "### pandas funcation for colunm selecting\n",
    "\n",
    "- 1.[]\n",
    "    - ex: table_name[['colunm_name_1','colunm_name_1']]\n",
    "- 2.loc\n",
    "    - ex: table_name.loc[:,['colunm_name_1','colunm_name_1']]\n",
    "- 3.iloc\n",
    "    - ex: table_name.iloc[:,[2,3]]"
   ]
  },
  {
   "cell_type": "code",
   "execution_count": 9,
   "metadata": {},
   "outputs": [
    {
     "output_type": "execute_result",
     "data": {
      "text/plain": "      uid         orderid\n0   10005  20190801091540\n1   10001  20190801100006\n2   10003  20190801091540\n3   10002  20190801121742\n4   10001  20190801140515\n..    ...             ...\n78  10003  20190810191026\n79  10002  20190810191433\n80  10007  20190811151111\n81  10007  20190812151638\n82  10002  20190813151443\n\n[83 rows x 2 columns]",
      "text/html": "<div>\n<style scoped>\n    .dataframe tbody tr th:only-of-type {\n        vertical-align: middle;\n    }\n\n    .dataframe tbody tr th {\n        vertical-align: top;\n    }\n\n    .dataframe thead th {\n        text-align: right;\n    }\n</style>\n<table border=\"1\" class=\"dataframe\">\n  <thead>\n    <tr style=\"text-align: right;\">\n      <th></th>\n      <th>uid</th>\n      <th>orderid</th>\n    </tr>\n  </thead>\n  <tbody>\n    <tr>\n      <th>0</th>\n      <td>10005</td>\n      <td>20190801091540</td>\n    </tr>\n    <tr>\n      <th>1</th>\n      <td>10001</td>\n      <td>20190801100006</td>\n    </tr>\n    <tr>\n      <th>2</th>\n      <td>10003</td>\n      <td>20190801091540</td>\n    </tr>\n    <tr>\n      <th>3</th>\n      <td>10002</td>\n      <td>20190801121742</td>\n    </tr>\n    <tr>\n      <th>4</th>\n      <td>10001</td>\n      <td>20190801140515</td>\n    </tr>\n    <tr>\n      <th>...</th>\n      <td>...</td>\n      <td>...</td>\n    </tr>\n    <tr>\n      <th>78</th>\n      <td>10003</td>\n      <td>20190810191026</td>\n    </tr>\n    <tr>\n      <th>79</th>\n      <td>10002</td>\n      <td>20190810191433</td>\n    </tr>\n    <tr>\n      <th>80</th>\n      <td>10007</td>\n      <td>20190811151111</td>\n    </tr>\n    <tr>\n      <th>81</th>\n      <td>10007</td>\n      <td>20190812151638</td>\n    </tr>\n    <tr>\n      <th>82</th>\n      <td>10002</td>\n      <td>20190813151443</td>\n    </tr>\n  </tbody>\n</table>\n<p>83 rows × 2 columns</p>\n</div>"
     },
     "metadata": {},
     "execution_count": 9
    }
   ],
   "source": [
    "#1\n",
    "order_data[['uid','orderid']]"
   ]
  },
  {
   "cell_type": "code",
   "execution_count": 10,
   "metadata": {},
   "outputs": [
    {
     "output_type": "execute_result",
     "data": {
      "text/plain": "      uid\n0   10005\n1   10001\n2   10003\n3   10002\n4   10001\n..    ...\n78  10003\n79  10002\n80  10007\n81  10007\n82  10002\n\n[83 rows x 1 columns]",
      "text/html": "<div>\n<style scoped>\n    .dataframe tbody tr th:only-of-type {\n        vertical-align: middle;\n    }\n\n    .dataframe tbody tr th {\n        vertical-align: top;\n    }\n\n    .dataframe thead th {\n        text-align: right;\n    }\n</style>\n<table border=\"1\" class=\"dataframe\">\n  <thead>\n    <tr style=\"text-align: right;\">\n      <th></th>\n      <th>uid</th>\n    </tr>\n  </thead>\n  <tbody>\n    <tr>\n      <th>0</th>\n      <td>10005</td>\n    </tr>\n    <tr>\n      <th>1</th>\n      <td>10001</td>\n    </tr>\n    <tr>\n      <th>2</th>\n      <td>10003</td>\n    </tr>\n    <tr>\n      <th>3</th>\n      <td>10002</td>\n    </tr>\n    <tr>\n      <th>4</th>\n      <td>10001</td>\n    </tr>\n    <tr>\n      <th>...</th>\n      <td>...</td>\n    </tr>\n    <tr>\n      <th>78</th>\n      <td>10003</td>\n    </tr>\n    <tr>\n      <th>79</th>\n      <td>10002</td>\n    </tr>\n    <tr>\n      <th>80</th>\n      <td>10007</td>\n    </tr>\n    <tr>\n      <th>81</th>\n      <td>10007</td>\n    </tr>\n    <tr>\n      <th>82</th>\n      <td>10002</td>\n    </tr>\n  </tbody>\n</table>\n<p>83 rows × 1 columns</p>\n</div>"
     },
     "metadata": {},
     "execution_count": 10
    }
   ],
   "source": [
    "#1\n",
    "order_data[['uid']]"
   ]
  },
  {
   "cell_type": "code",
   "execution_count": 11,
   "metadata": {},
   "outputs": [
    {
     "output_type": "execute_result",
     "data": {
      "text/plain": "0     10005\n1     10001\n2     10003\n3     10002\n4     10001\n      ...  \n78    10003\n79    10002\n80    10007\n81    10007\n82    10002\nName: uid, Length: 83, dtype: int64"
     },
     "metadata": {},
     "execution_count": 11
    }
   ],
   "source": [
    "#1 differnet between single [] and bouble []\n",
    "## signle [] show colunm name\n",
    "## double [] won't show colunm name and dscr this colunm porperty\n",
    "order_data['uid']"
   ]
  },
  {
   "cell_type": "code",
   "execution_count": 12,
   "metadata": {},
   "outputs": [
    {
     "output_type": "execute_result",
     "data": {
      "text/plain": "      uid\n0   10005\n1   10001\n2   10003\n3   10002\n4   10001\n..    ...\n78  10003\n79  10002\n80  10007\n81  10007\n82  10002\n\n[83 rows x 1 columns]",
      "text/html": "<div>\n<style scoped>\n    .dataframe tbody tr th:only-of-type {\n        vertical-align: middle;\n    }\n\n    .dataframe tbody tr th {\n        vertical-align: top;\n    }\n\n    .dataframe thead th {\n        text-align: right;\n    }\n</style>\n<table border=\"1\" class=\"dataframe\">\n  <thead>\n    <tr style=\"text-align: right;\">\n      <th></th>\n      <th>uid</th>\n    </tr>\n  </thead>\n  <tbody>\n    <tr>\n      <th>0</th>\n      <td>10005</td>\n    </tr>\n    <tr>\n      <th>1</th>\n      <td>10001</td>\n    </tr>\n    <tr>\n      <th>2</th>\n      <td>10003</td>\n    </tr>\n    <tr>\n      <th>3</th>\n      <td>10002</td>\n    </tr>\n    <tr>\n      <th>4</th>\n      <td>10001</td>\n    </tr>\n    <tr>\n      <th>...</th>\n      <td>...</td>\n    </tr>\n    <tr>\n      <th>78</th>\n      <td>10003</td>\n    </tr>\n    <tr>\n      <th>79</th>\n      <td>10002</td>\n    </tr>\n    <tr>\n      <th>80</th>\n      <td>10007</td>\n    </tr>\n    <tr>\n      <th>81</th>\n      <td>10007</td>\n    </tr>\n    <tr>\n      <th>82</th>\n      <td>10002</td>\n    </tr>\n  </tbody>\n</table>\n<p>83 rows × 1 columns</p>\n</div>"
     },
     "metadata": {},
     "execution_count": 12
    }
   ],
   "source": [
    "#2\n",
    "order_data.loc[:,['uid']]"
   ]
  },
  {
   "cell_type": "code",
   "execution_count": 13,
   "metadata": {},
   "outputs": [
    {
     "output_type": "execute_result",
     "data": {
      "text/plain": "      uid         orderid\n0   10005  20190801091540\n1   10001  20190801100006\n2   10003  20190801091540\n3   10002  20190801121742\n4   10001  20190801140515\n..    ...             ...\n78  10003  20190810191026\n79  10002  20190810191433\n80  10007  20190811151111\n81  10007  20190812151638\n82  10002  20190813151443\n\n[83 rows x 2 columns]",
      "text/html": "<div>\n<style scoped>\n    .dataframe tbody tr th:only-of-type {\n        vertical-align: middle;\n    }\n\n    .dataframe tbody tr th {\n        vertical-align: top;\n    }\n\n    .dataframe thead th {\n        text-align: right;\n    }\n</style>\n<table border=\"1\" class=\"dataframe\">\n  <thead>\n    <tr style=\"text-align: right;\">\n      <th></th>\n      <th>uid</th>\n      <th>orderid</th>\n    </tr>\n  </thead>\n  <tbody>\n    <tr>\n      <th>0</th>\n      <td>10005</td>\n      <td>20190801091540</td>\n    </tr>\n    <tr>\n      <th>1</th>\n      <td>10001</td>\n      <td>20190801100006</td>\n    </tr>\n    <tr>\n      <th>2</th>\n      <td>10003</td>\n      <td>20190801091540</td>\n    </tr>\n    <tr>\n      <th>3</th>\n      <td>10002</td>\n      <td>20190801121742</td>\n    </tr>\n    <tr>\n      <th>4</th>\n      <td>10001</td>\n      <td>20190801140515</td>\n    </tr>\n    <tr>\n      <th>...</th>\n      <td>...</td>\n      <td>...</td>\n    </tr>\n    <tr>\n      <th>78</th>\n      <td>10003</td>\n      <td>20190810191026</td>\n    </tr>\n    <tr>\n      <th>79</th>\n      <td>10002</td>\n      <td>20190810191433</td>\n    </tr>\n    <tr>\n      <th>80</th>\n      <td>10007</td>\n      <td>20190811151111</td>\n    </tr>\n    <tr>\n      <th>81</th>\n      <td>10007</td>\n      <td>20190812151638</td>\n    </tr>\n    <tr>\n      <th>82</th>\n      <td>10002</td>\n      <td>20190813151443</td>\n    </tr>\n  </tbody>\n</table>\n<p>83 rows × 2 columns</p>\n</div>"
     },
     "metadata": {},
     "execution_count": 13
    }
   ],
   "source": [
    "#3\n",
    "order_data.iloc[:,[2,3]]"
   ]
  },
  {
   "cell_type": "code",
   "execution_count": 14,
   "metadata": {},
   "outputs": [
    {
     "output_type": "execute_result",
     "data": {
      "text/plain": "                 ts\n0     2019/8/1 9:15\n1    2019/8/1 10:00\n2    2019/8/1 10:04\n3    2019/8/1 12:17\n4    2019/8/1 14:05\n..              ...\n78  2019/8/10 19:10\n79  2019/8/10 19:14\n80  2019/8/11 15:11\n81  2019/8/12 15:16\n82  2019/8/13 15:14\n\n[83 rows x 1 columns]",
      "text/html": "<div>\n<style scoped>\n    .dataframe tbody tr th:only-of-type {\n        vertical-align: middle;\n    }\n\n    .dataframe tbody tr th {\n        vertical-align: top;\n    }\n\n    .dataframe thead th {\n        text-align: right;\n    }\n</style>\n<table border=\"1\" class=\"dataframe\">\n  <thead>\n    <tr style=\"text-align: right;\">\n      <th></th>\n      <th>ts</th>\n    </tr>\n  </thead>\n  <tbody>\n    <tr>\n      <th>0</th>\n      <td>2019/8/1 9:15</td>\n    </tr>\n    <tr>\n      <th>1</th>\n      <td>2019/8/1 10:00</td>\n    </tr>\n    <tr>\n      <th>2</th>\n      <td>2019/8/1 10:04</td>\n    </tr>\n    <tr>\n      <th>3</th>\n      <td>2019/8/1 12:17</td>\n    </tr>\n    <tr>\n      <th>4</th>\n      <td>2019/8/1 14:05</td>\n    </tr>\n    <tr>\n      <th>...</th>\n      <td>...</td>\n    </tr>\n    <tr>\n      <th>78</th>\n      <td>2019/8/10 19:10</td>\n    </tr>\n    <tr>\n      <th>79</th>\n      <td>2019/8/10 19:14</td>\n    </tr>\n    <tr>\n      <th>80</th>\n      <td>2019/8/11 15:11</td>\n    </tr>\n    <tr>\n      <th>81</th>\n      <td>2019/8/12 15:16</td>\n    </tr>\n    <tr>\n      <th>82</th>\n      <td>2019/8/13 15:14</td>\n    </tr>\n  </tbody>\n</table>\n<p>83 rows × 1 columns</p>\n</div>"
     },
     "metadata": {},
     "execution_count": 14
    }
   ],
   "source": [
    "order_data.iloc[:,[1]]"
   ]
  },
  {
   "cell_type": "code",
   "execution_count": 15,
   "metadata": {
    "collapsed": true,
    "jupyter": {
     "outputs_hidden": true
    }
   },
   "outputs": [
    {
     "output_type": "execute_result",
     "data": {
      "text/plain": "      uid               ts\n0   10005    2019/8/1 9:15\n1   10001   2019/8/1 10:00\n2   10003   2019/8/1 10:04\n3   10002   2019/8/1 12:17\n4   10001   2019/8/1 14:05\n..    ...              ...\n78  10003  2019/8/10 19:10\n79  10002  2019/8/10 19:14\n80  10007  2019/8/11 15:11\n81  10007  2019/8/12 15:16\n82  10002  2019/8/13 15:14\n\n[83 rows x 2 columns]",
      "text/html": "<div>\n<style scoped>\n    .dataframe tbody tr th:only-of-type {\n        vertical-align: middle;\n    }\n\n    .dataframe tbody tr th {\n        vertical-align: top;\n    }\n\n    .dataframe thead th {\n        text-align: right;\n    }\n</style>\n<table border=\"1\" class=\"dataframe\">\n  <thead>\n    <tr style=\"text-align: right;\">\n      <th></th>\n      <th>uid</th>\n      <th>ts</th>\n    </tr>\n  </thead>\n  <tbody>\n    <tr>\n      <th>0</th>\n      <td>10005</td>\n      <td>2019/8/1 9:15</td>\n    </tr>\n    <tr>\n      <th>1</th>\n      <td>10001</td>\n      <td>2019/8/1 10:00</td>\n    </tr>\n    <tr>\n      <th>2</th>\n      <td>10003</td>\n      <td>2019/8/1 10:04</td>\n    </tr>\n    <tr>\n      <th>3</th>\n      <td>10002</td>\n      <td>2019/8/1 12:17</td>\n    </tr>\n    <tr>\n      <th>4</th>\n      <td>10001</td>\n      <td>2019/8/1 14:05</td>\n    </tr>\n    <tr>\n      <th>...</th>\n      <td>...</td>\n      <td>...</td>\n    </tr>\n    <tr>\n      <th>78</th>\n      <td>10003</td>\n      <td>2019/8/10 19:10</td>\n    </tr>\n    <tr>\n      <th>79</th>\n      <td>10002</td>\n      <td>2019/8/10 19:14</td>\n    </tr>\n    <tr>\n      <th>80</th>\n      <td>10007</td>\n      <td>2019/8/11 15:11</td>\n    </tr>\n    <tr>\n      <th>81</th>\n      <td>10007</td>\n      <td>2019/8/12 15:16</td>\n    </tr>\n    <tr>\n      <th>82</th>\n      <td>10002</td>\n      <td>2019/8/13 15:14</td>\n    </tr>\n  </tbody>\n</table>\n<p>83 rows × 2 columns</p>\n</div>"
     },
     "metadata": {},
     "execution_count": 15
    }
   ],
   "source": [
    "#3\n",
    "order_data.iloc[:,[2,1]]"
   ]
  },
  {
   "cell_type": "markdown",
   "metadata": {},
   "source": [
    "## select unique\n",
    "> select distinct uid from order_data"
   ]
  },
  {
   "cell_type": "code",
   "execution_count": 16,
   "metadata": {},
   "outputs": [
    {
     "output_type": "execute_result",
     "data": {
      "text/plain": "array([10005, 10001, 10003, 10002, 10004, 10009, 10008, 10007, 10006])"
     },
     "metadata": {},
     "execution_count": 16
    }
   ],
   "source": [
    "order_data['uid'].unique()"
   ]
  },
  {
   "cell_type": "markdown",
   "metadata": {},
   "source": [
    "## count uinique\n",
    ">select count(distinct uid) from order_data"
   ]
  },
  {
   "cell_type": "code",
   "execution_count": 17,
   "metadata": {},
   "outputs": [
    {
     "output_type": "execute_result",
     "data": {
      "text/plain": "9"
     },
     "metadata": {},
     "execution_count": 17
    }
   ],
   "source": [
    "order_data['uid'].nunique()"
   ]
  },
  {
   "cell_type": "markdown",
   "metadata": {},
   "source": [
    "## single condition in pandas\n",
    "> selct * where uid = 10003"
   ]
  },
  {
   "cell_type": "code",
   "execution_count": 18,
   "metadata": {},
   "outputs": [
    {
     "output_type": "execute_result",
     "data": {
      "text/plain": "    id               ts    uid         orderid  amount\n2    3   2019/8/1 10:04  10003  20190801091540   63.86\n11  12   2019/8/2 17:03  10003  20190802170356   79.33\n16  17   2019/8/2 20:10  10003  20190802201002   32.01\n18  19   2019/8/3 10:08  10003  20190803100858   50.40\n31  32   2019/8/5 15:05  10003  20190805150532   42.29\n34  35   2019/8/5 19:17  10003  20190805191729   49.75\n40  41   2019/8/6 17:01  10003  20190806170150   37.49\n50  51   2019/8/7 20:14  10003  20190807201432   33.16\n51  52    2019/8/8 8:16  10003  20190808081605   81.74\n64  65   2019/8/9 17:05  10003  20190809170516   33.72\n66  67   2019/8/9 19:01  10003  20190809190105   90.97\n77  78  2019/8/10 18:03  10003  20190810180306   22.59\n78  79  2019/8/10 19:10  10003  20190810191026   68.86",
      "text/html": "<div>\n<style scoped>\n    .dataframe tbody tr th:only-of-type {\n        vertical-align: middle;\n    }\n\n    .dataframe tbody tr th {\n        vertical-align: top;\n    }\n\n    .dataframe thead th {\n        text-align: right;\n    }\n</style>\n<table border=\"1\" class=\"dataframe\">\n  <thead>\n    <tr style=\"text-align: right;\">\n      <th></th>\n      <th>id</th>\n      <th>ts</th>\n      <th>uid</th>\n      <th>orderid</th>\n      <th>amount</th>\n    </tr>\n  </thead>\n  <tbody>\n    <tr>\n      <th>2</th>\n      <td>3</td>\n      <td>2019/8/1 10:04</td>\n      <td>10003</td>\n      <td>20190801091540</td>\n      <td>63.86</td>\n    </tr>\n    <tr>\n      <th>11</th>\n      <td>12</td>\n      <td>2019/8/2 17:03</td>\n      <td>10003</td>\n      <td>20190802170356</td>\n      <td>79.33</td>\n    </tr>\n    <tr>\n      <th>16</th>\n      <td>17</td>\n      <td>2019/8/2 20:10</td>\n      <td>10003</td>\n      <td>20190802201002</td>\n      <td>32.01</td>\n    </tr>\n    <tr>\n      <th>18</th>\n      <td>19</td>\n      <td>2019/8/3 10:08</td>\n      <td>10003</td>\n      <td>20190803100858</td>\n      <td>50.40</td>\n    </tr>\n    <tr>\n      <th>31</th>\n      <td>32</td>\n      <td>2019/8/5 15:05</td>\n      <td>10003</td>\n      <td>20190805150532</td>\n      <td>42.29</td>\n    </tr>\n    <tr>\n      <th>34</th>\n      <td>35</td>\n      <td>2019/8/5 19:17</td>\n      <td>10003</td>\n      <td>20190805191729</td>\n      <td>49.75</td>\n    </tr>\n    <tr>\n      <th>40</th>\n      <td>41</td>\n      <td>2019/8/6 17:01</td>\n      <td>10003</td>\n      <td>20190806170150</td>\n      <td>37.49</td>\n    </tr>\n    <tr>\n      <th>50</th>\n      <td>51</td>\n      <td>2019/8/7 20:14</td>\n      <td>10003</td>\n      <td>20190807201432</td>\n      <td>33.16</td>\n    </tr>\n    <tr>\n      <th>51</th>\n      <td>52</td>\n      <td>2019/8/8 8:16</td>\n      <td>10003</td>\n      <td>20190808081605</td>\n      <td>81.74</td>\n    </tr>\n    <tr>\n      <th>64</th>\n      <td>65</td>\n      <td>2019/8/9 17:05</td>\n      <td>10003</td>\n      <td>20190809170516</td>\n      <td>33.72</td>\n    </tr>\n    <tr>\n      <th>66</th>\n      <td>67</td>\n      <td>2019/8/9 19:01</td>\n      <td>10003</td>\n      <td>20190809190105</td>\n      <td>90.97</td>\n    </tr>\n    <tr>\n      <th>77</th>\n      <td>78</td>\n      <td>2019/8/10 18:03</td>\n      <td>10003</td>\n      <td>20190810180306</td>\n      <td>22.59</td>\n    </tr>\n    <tr>\n      <th>78</th>\n      <td>79</td>\n      <td>2019/8/10 19:10</td>\n      <td>10003</td>\n      <td>20190810191026</td>\n      <td>68.86</td>\n    </tr>\n  </tbody>\n</table>\n</div>"
     },
     "metadata": {},
     "execution_count": 18
    }
   ],
   "source": [
    "order_data[order_data['uid'] == 10003]"
   ]
  },
  {
   "cell_type": "markdown",
   "metadata": {},
   "source": [
    "## mulitpy conditions in pandas\n",
    "> selct * where uid = 10003 and amout > 10"
   ]
  },
  {
   "cell_type": "code",
   "execution_count": 19,
   "metadata": {},
   "outputs": [
    {
     "output_type": "error",
     "ename": "SyntaxError",
     "evalue": "invalid syntax (<ipython-input-19-2d9d138a3ed4>, line 2)",
     "traceback": [
      "\u001b[0;36m  File \u001b[0;32m\"<ipython-input-19-2d9d138a3ed4>\"\u001b[0;36m, line \u001b[0;32m2\u001b[0m\n\u001b[0;31m    > selct * where uid = 10003 and amount > 10\u001b[0m\n\u001b[0m    ^\u001b[0m\n\u001b[0;31mSyntaxError\u001b[0m\u001b[0;31m:\u001b[0m invalid syntax\n"
     ]
    }
   ],
   "source": [
    "## where and clause in pandas\n",
    "> selct * where uid = 10003 and amount > 10"
   ]
  },
  {
   "cell_type": "markdown",
   "metadata": {},
   "source": [
    "## null value \n",
    "null value showed as 'nan' in pandas\n",
    "- find no_null value\n",
    "\n",
    "> select * from t_order where uid is not null;\n",
    "\n",
    "- find null value\n",
    "\n",
    "> select * from t_order where uid is null;\n",
    "\n"
   ]
  },
  {
   "cell_type": "code",
   "execution_count": 20,
   "metadata": {},
   "outputs": [
    {
     "output_type": "execute_result",
     "data": {
      "text/plain": "    id               ts    uid         orderid  amount\n2    3   2019/8/1 10:04  10003  20190801091540   63.86\n11  12   2019/8/2 17:03  10003  20190802170356   79.33\n16  17   2019/8/2 20:10  10003  20190802201002   32.01\n18  19   2019/8/3 10:08  10003  20190803100858   50.40\n31  32   2019/8/5 15:05  10003  20190805150532   42.29\n34  35   2019/8/5 19:17  10003  20190805191729   49.75\n40  41   2019/8/6 17:01  10003  20190806170150   37.49\n50  51   2019/8/7 20:14  10003  20190807201432   33.16\n51  52    2019/8/8 8:16  10003  20190808081605   81.74\n64  65   2019/8/9 17:05  10003  20190809170516   33.72\n66  67   2019/8/9 19:01  10003  20190809190105   90.97\n77  78  2019/8/10 18:03  10003  20190810180306   22.59\n78  79  2019/8/10 19:10  10003  20190810191026   68.86",
      "text/html": "<div>\n<style scoped>\n    .dataframe tbody tr th:only-of-type {\n        vertical-align: middle;\n    }\n\n    .dataframe tbody tr th {\n        vertical-align: top;\n    }\n\n    .dataframe thead th {\n        text-align: right;\n    }\n</style>\n<table border=\"1\" class=\"dataframe\">\n  <thead>\n    <tr style=\"text-align: right;\">\n      <th></th>\n      <th>id</th>\n      <th>ts</th>\n      <th>uid</th>\n      <th>orderid</th>\n      <th>amount</th>\n    </tr>\n  </thead>\n  <tbody>\n    <tr>\n      <th>2</th>\n      <td>3</td>\n      <td>2019/8/1 10:04</td>\n      <td>10003</td>\n      <td>20190801091540</td>\n      <td>63.86</td>\n    </tr>\n    <tr>\n      <th>11</th>\n      <td>12</td>\n      <td>2019/8/2 17:03</td>\n      <td>10003</td>\n      <td>20190802170356</td>\n      <td>79.33</td>\n    </tr>\n    <tr>\n      <th>16</th>\n      <td>17</td>\n      <td>2019/8/2 20:10</td>\n      <td>10003</td>\n      <td>20190802201002</td>\n      <td>32.01</td>\n    </tr>\n    <tr>\n      <th>18</th>\n      <td>19</td>\n      <td>2019/8/3 10:08</td>\n      <td>10003</td>\n      <td>20190803100858</td>\n      <td>50.40</td>\n    </tr>\n    <tr>\n      <th>31</th>\n      <td>32</td>\n      <td>2019/8/5 15:05</td>\n      <td>10003</td>\n      <td>20190805150532</td>\n      <td>42.29</td>\n    </tr>\n    <tr>\n      <th>34</th>\n      <td>35</td>\n      <td>2019/8/5 19:17</td>\n      <td>10003</td>\n      <td>20190805191729</td>\n      <td>49.75</td>\n    </tr>\n    <tr>\n      <th>40</th>\n      <td>41</td>\n      <td>2019/8/6 17:01</td>\n      <td>10003</td>\n      <td>20190806170150</td>\n      <td>37.49</td>\n    </tr>\n    <tr>\n      <th>50</th>\n      <td>51</td>\n      <td>2019/8/7 20:14</td>\n      <td>10003</td>\n      <td>20190807201432</td>\n      <td>33.16</td>\n    </tr>\n    <tr>\n      <th>51</th>\n      <td>52</td>\n      <td>2019/8/8 8:16</td>\n      <td>10003</td>\n      <td>20190808081605</td>\n      <td>81.74</td>\n    </tr>\n    <tr>\n      <th>64</th>\n      <td>65</td>\n      <td>2019/8/9 17:05</td>\n      <td>10003</td>\n      <td>20190809170516</td>\n      <td>33.72</td>\n    </tr>\n    <tr>\n      <th>66</th>\n      <td>67</td>\n      <td>2019/8/9 19:01</td>\n      <td>10003</td>\n      <td>20190809190105</td>\n      <td>90.97</td>\n    </tr>\n    <tr>\n      <th>77</th>\n      <td>78</td>\n      <td>2019/8/10 18:03</td>\n      <td>10003</td>\n      <td>20190810180306</td>\n      <td>22.59</td>\n    </tr>\n    <tr>\n      <th>78</th>\n      <td>79</td>\n      <td>2019/8/10 19:10</td>\n      <td>10003</td>\n      <td>20190810191026</td>\n      <td>68.86</td>\n    </tr>\n  </tbody>\n</table>\n</div>"
     },
     "metadata": {},
     "execution_count": 20
    }
   ],
   "source": [
    "order_data[(order_data['uid'] == 10003) & (order_data['amount'] > 10)]"
   ]
  },
  {
   "cell_type": "code",
   "execution_count": 21,
   "metadata": {},
   "outputs": [
    {
     "output_type": "execute_result",
     "data": {
      "text/plain": "    id               ts    uid         orderid  amount\n0    1    2019/8/1 9:15  10005  20190801091540   48.43\n1    2   2019/8/1 10:00  10001  20190801100006   89.33\n2    3   2019/8/1 10:04  10003  20190801091540   63.86\n3    4   2019/8/1 12:17  10002  20190801121742    3.16\n4    5   2019/8/1 14:05  10001  20190801140515   87.15\n..  ..              ...    ...             ...     ...\n78  79  2019/8/10 19:10  10003  20190810191026   68.86\n79  80  2019/8/10 19:14  10002  20190810191433   68.07\n80  81  2019/8/11 15:11  10007  20190811151111   52.76\n81  82  2019/8/12 15:16  10007  20190812151638   61.90\n82  83  2019/8/13 15:14  10002  20190813151443   46.87\n\n[83 rows x 5 columns]",
      "text/html": "<div>\n<style scoped>\n    .dataframe tbody tr th:only-of-type {\n        vertical-align: middle;\n    }\n\n    .dataframe tbody tr th {\n        vertical-align: top;\n    }\n\n    .dataframe thead th {\n        text-align: right;\n    }\n</style>\n<table border=\"1\" class=\"dataframe\">\n  <thead>\n    <tr style=\"text-align: right;\">\n      <th></th>\n      <th>id</th>\n      <th>ts</th>\n      <th>uid</th>\n      <th>orderid</th>\n      <th>amount</th>\n    </tr>\n  </thead>\n  <tbody>\n    <tr>\n      <th>0</th>\n      <td>1</td>\n      <td>2019/8/1 9:15</td>\n      <td>10005</td>\n      <td>20190801091540</td>\n      <td>48.43</td>\n    </tr>\n    <tr>\n      <th>1</th>\n      <td>2</td>\n      <td>2019/8/1 10:00</td>\n      <td>10001</td>\n      <td>20190801100006</td>\n      <td>89.33</td>\n    </tr>\n    <tr>\n      <th>2</th>\n      <td>3</td>\n      <td>2019/8/1 10:04</td>\n      <td>10003</td>\n      <td>20190801091540</td>\n      <td>63.86</td>\n    </tr>\n    <tr>\n      <th>3</th>\n      <td>4</td>\n      <td>2019/8/1 12:17</td>\n      <td>10002</td>\n      <td>20190801121742</td>\n      <td>3.16</td>\n    </tr>\n    <tr>\n      <th>4</th>\n      <td>5</td>\n      <td>2019/8/1 14:05</td>\n      <td>10001</td>\n      <td>20190801140515</td>\n      <td>87.15</td>\n    </tr>\n    <tr>\n      <th>...</th>\n      <td>...</td>\n      <td>...</td>\n      <td>...</td>\n      <td>...</td>\n      <td>...</td>\n    </tr>\n    <tr>\n      <th>78</th>\n      <td>79</td>\n      <td>2019/8/10 19:10</td>\n      <td>10003</td>\n      <td>20190810191026</td>\n      <td>68.86</td>\n    </tr>\n    <tr>\n      <th>79</th>\n      <td>80</td>\n      <td>2019/8/10 19:14</td>\n      <td>10002</td>\n      <td>20190810191433</td>\n      <td>68.07</td>\n    </tr>\n    <tr>\n      <th>80</th>\n      <td>81</td>\n      <td>2019/8/11 15:11</td>\n      <td>10007</td>\n      <td>20190811151111</td>\n      <td>52.76</td>\n    </tr>\n    <tr>\n      <th>81</th>\n      <td>82</td>\n      <td>2019/8/12 15:16</td>\n      <td>10007</td>\n      <td>20190812151638</td>\n      <td>61.90</td>\n    </tr>\n    <tr>\n      <th>82</th>\n      <td>83</td>\n      <td>2019/8/13 15:14</td>\n      <td>10002</td>\n      <td>20190813151443</td>\n      <td>46.87</td>\n    </tr>\n  </tbody>\n</table>\n<p>83 rows × 5 columns</p>\n</div>"
     },
     "metadata": {},
     "execution_count": 21
    }
   ],
   "source": [
    "# notna\n",
    "order_data[order_data['uid'].notna()]"
   ]
  },
  {
   "cell_type": "markdown",
   "metadata": {},
   "source": [
    "## group by aggregate\n",
    "\n",
    ">select count(distinct orderid) from order_data group by uid"
   ]
  },
  {
   "cell_type": "markdown",
   "metadata": {},
   "source": [
    "### count aggregate\n",
    "- nuique = cntd\n",
    "- count() = cnt\n",
    "- size() = cnt"
   ]
  },
  {
   "cell_type": "code",
   "execution_count": 22,
   "metadata": {},
   "outputs": [
    {
     "output_type": "execute_result",
     "data": {
      "text/plain": "Empty DataFrame\nColumns: [id, ts, uid, orderid, amount]\nIndex: []",
      "text/html": "<div>\n<style scoped>\n    .dataframe tbody tr th:only-of-type {\n        vertical-align: middle;\n    }\n\n    .dataframe tbody tr th {\n        vertical-align: top;\n    }\n\n    .dataframe thead th {\n        text-align: right;\n    }\n</style>\n<table border=\"1\" class=\"dataframe\">\n  <thead>\n    <tr style=\"text-align: right;\">\n      <th></th>\n      <th>id</th>\n      <th>ts</th>\n      <th>uid</th>\n      <th>orderid</th>\n      <th>amount</th>\n    </tr>\n  </thead>\n  <tbody>\n  </tbody>\n</table>\n</div>"
     },
     "metadata": {},
     "execution_count": 22
    }
   ],
   "source": [
    "order_data[order_data['uid'].isna()]"
   ]
  },
  {
   "cell_type": "code",
   "execution_count": 23,
   "metadata": {},
   "outputs": [
    {
     "output_type": "execute_result",
     "data": {
      "text/plain": "       orderid\nuid           \n10001        9\n10002       17\n10003       13\n10004        8\n10005        9\n10006        1\n10007        7\n10008        8\n10009       11",
      "text/html": "<div>\n<style scoped>\n    .dataframe tbody tr th:only-of-type {\n        vertical-align: middle;\n    }\n\n    .dataframe tbody tr th {\n        vertical-align: top;\n    }\n\n    .dataframe thead th {\n        text-align: right;\n    }\n</style>\n<table border=\"1\" class=\"dataframe\">\n  <thead>\n    <tr style=\"text-align: right;\">\n      <th></th>\n      <th>orderid</th>\n    </tr>\n    <tr>\n      <th>uid</th>\n      <th></th>\n    </tr>\n  </thead>\n  <tbody>\n    <tr>\n      <th>10001</th>\n      <td>9</td>\n    </tr>\n    <tr>\n      <th>10002</th>\n      <td>17</td>\n    </tr>\n    <tr>\n      <th>10003</th>\n      <td>13</td>\n    </tr>\n    <tr>\n      <th>10004</th>\n      <td>8</td>\n    </tr>\n    <tr>\n      <th>10005</th>\n      <td>9</td>\n    </tr>\n    <tr>\n      <th>10006</th>\n      <td>1</td>\n    </tr>\n    <tr>\n      <th>10007</th>\n      <td>7</td>\n    </tr>\n    <tr>\n      <th>10008</th>\n      <td>8</td>\n    </tr>\n    <tr>\n      <th>10009</th>\n      <td>11</td>\n    </tr>\n  </tbody>\n</table>\n</div>"
     },
     "metadata": {},
     "execution_count": 23
    }
   ],
   "source": [
    "#REF:count distinct in pandas: order_data['uid'].nunique()\n",
    "# 1\n",
    "order_data.groupby(['uid'])[['orderid']].nunique()"
   ]
  },
  {
   "cell_type": "code",
   "execution_count": 24,
   "metadata": {},
   "outputs": [
    {
     "output_type": "execute_result",
     "data": {
      "text/plain": "       orderid\nuid           \n10001        9\n10002       17\n10003       13\n10004        8\n10005        9\n10006        1\n10007        7\n10008        8\n10009       11",
      "text/html": "<div>\n<style scoped>\n    .dataframe tbody tr th:only-of-type {\n        vertical-align: middle;\n    }\n\n    .dataframe tbody tr th {\n        vertical-align: top;\n    }\n\n    .dataframe thead th {\n        text-align: right;\n    }\n</style>\n<table border=\"1\" class=\"dataframe\">\n  <thead>\n    <tr style=\"text-align: right;\">\n      <th></th>\n      <th>orderid</th>\n    </tr>\n    <tr>\n      <th>uid</th>\n      <th></th>\n    </tr>\n  </thead>\n  <tbody>\n    <tr>\n      <th>10001</th>\n      <td>9</td>\n    </tr>\n    <tr>\n      <th>10002</th>\n      <td>17</td>\n    </tr>\n    <tr>\n      <th>10003</th>\n      <td>13</td>\n    </tr>\n    <tr>\n      <th>10004</th>\n      <td>8</td>\n    </tr>\n    <tr>\n      <th>10005</th>\n      <td>9</td>\n    </tr>\n    <tr>\n      <th>10006</th>\n      <td>1</td>\n    </tr>\n    <tr>\n      <th>10007</th>\n      <td>7</td>\n    </tr>\n    <tr>\n      <th>10008</th>\n      <td>8</td>\n    </tr>\n    <tr>\n      <th>10009</th>\n      <td>11</td>\n    </tr>\n  </tbody>\n</table>\n</div>"
     },
     "metadata": {},
     "execution_count": 24
    }
   ],
   "source": [
    "#2\n",
    "order_data.groupby(['uid'])[['orderid']].count()"
   ]
  },
  {
   "cell_type": "code",
   "execution_count": 41,
   "metadata": {},
   "outputs": [
    {
     "output_type": "execute_result",
     "data": {
      "text/plain": "uid\n10001     9\n10002    17\n10003    13\n10004     8\n10005     9\n10006     1\n10007     7\n10008     8\n10009    11\nName: orderid, dtype: int64"
     },
     "metadata": {},
     "execution_count": 41
    }
   ],
   "source": [
    "#3\n",
    "order_data.groupby('uid')['orderid'].size()"
   ]
  },
  {
   "cell_type": "markdown",
   "metadata": {},
   "source": [
    "## complicate aggregation\n",
    "> select uid,count(distinct orderid),sum(amount) from order_data group by uid"
   ]
  },
  {
   "cell_type": "code",
   "execution_count": 42,
   "metadata": {},
   "outputs": [
    {
     "output_type": "execute_result",
     "data": {
      "text/plain": "       orderid  amount\nuid                   \n10001        9  528.15\n10002       17  775.60\n10003       13  686.17\n10004        8  591.39\n10005        9  444.01\n10006        1   65.44\n10007        7  331.65\n10008        8  425.38\n10009       11  621.32",
      "text/html": "<div>\n<style scoped>\n    .dataframe tbody tr th:only-of-type {\n        vertical-align: middle;\n    }\n\n    .dataframe tbody tr th {\n        vertical-align: top;\n    }\n\n    .dataframe thead th {\n        text-align: right;\n    }\n</style>\n<table border=\"1\" class=\"dataframe\">\n  <thead>\n    <tr style=\"text-align: right;\">\n      <th></th>\n      <th>orderid</th>\n      <th>amount</th>\n    </tr>\n    <tr>\n      <th>uid</th>\n      <th></th>\n      <th></th>\n    </tr>\n  </thead>\n  <tbody>\n    <tr>\n      <th>10001</th>\n      <td>9</td>\n      <td>528.15</td>\n    </tr>\n    <tr>\n      <th>10002</th>\n      <td>17</td>\n      <td>775.60</td>\n    </tr>\n    <tr>\n      <th>10003</th>\n      <td>13</td>\n      <td>686.17</td>\n    </tr>\n    <tr>\n      <th>10004</th>\n      <td>8</td>\n      <td>591.39</td>\n    </tr>\n    <tr>\n      <th>10005</th>\n      <td>9</td>\n      <td>444.01</td>\n    </tr>\n    <tr>\n      <th>10006</th>\n      <td>1</td>\n      <td>65.44</td>\n    </tr>\n    <tr>\n      <th>10007</th>\n      <td>7</td>\n      <td>331.65</td>\n    </tr>\n    <tr>\n      <th>10008</th>\n      <td>8</td>\n      <td>425.38</td>\n    </tr>\n    <tr>\n      <th>10009</th>\n      <td>11</td>\n      <td>621.32</td>\n    </tr>\n  </tbody>\n</table>\n</div>"
     },
     "metadata": {},
     "execution_count": 42
    }
   ],
   "source": [
    "order_data.groupby('uid').agg({'orderid' : np.size, 'amount' : np.sum})"
   ]
  },
  {
   "cell_type": "markdown",
   "metadata": {},
   "source": [
    "## alias\n",
    "> select uid, count(distinct orderid) as order_cnt,sum(amount) as sum_maount\n",
    "from order_data\n",
    "group by uid"
   ]
  },
  {
   "cell_type": "code",
   "execution_count": 43,
   "metadata": {},
   "outputs": [
    {
     "output_type": "execute_result",
     "data": {
      "text/plain": "       order_cnt  sum_amount\nuid                         \n10001          9      528.15\n10002         17      775.60\n10003         13      686.17\n10004          8      591.39\n10005          9      444.01\n10006          1       65.44\n10007          7      331.65\n10008          8      425.38\n10009         11      621.32",
      "text/html": "<div>\n<style scoped>\n    .dataframe tbody tr th:only-of-type {\n        vertical-align: middle;\n    }\n\n    .dataframe tbody tr th {\n        vertical-align: top;\n    }\n\n    .dataframe thead th {\n        text-align: right;\n    }\n</style>\n<table border=\"1\" class=\"dataframe\">\n  <thead>\n    <tr style=\"text-align: right;\">\n      <th></th>\n      <th>order_cnt</th>\n      <th>sum_amount</th>\n    </tr>\n    <tr>\n      <th>uid</th>\n      <th></th>\n      <th></th>\n    </tr>\n  </thead>\n  <tbody>\n    <tr>\n      <th>10001</th>\n      <td>9</td>\n      <td>528.15</td>\n    </tr>\n    <tr>\n      <th>10002</th>\n      <td>17</td>\n      <td>775.60</td>\n    </tr>\n    <tr>\n      <th>10003</th>\n      <td>13</td>\n      <td>686.17</td>\n    </tr>\n    <tr>\n      <th>10004</th>\n      <td>8</td>\n      <td>591.39</td>\n    </tr>\n    <tr>\n      <th>10005</th>\n      <td>9</td>\n      <td>444.01</td>\n    </tr>\n    <tr>\n      <th>10006</th>\n      <td>1</td>\n      <td>65.44</td>\n    </tr>\n    <tr>\n      <th>10007</th>\n      <td>7</td>\n      <td>331.65</td>\n    </tr>\n    <tr>\n      <th>10008</th>\n      <td>8</td>\n      <td>425.38</td>\n    </tr>\n    <tr>\n      <th>10009</th>\n      <td>11</td>\n      <td>621.32</td>\n    </tr>\n  </tbody>\n</table>\n</div>"
     },
     "metadata": {},
     "execution_count": 43
    }
   ],
   "source": [
    "#creat dataframe\n",
    "order_df = order_data.groupby('uid').agg({'orderid' : np.size, 'amount' : np.sum})\n",
    "\n",
    "#rename dataframe comunms\n",
    "order_df.rename (columns = {'orderid' : 'order_cnt', 'amount' : 'sum_amount'})"
   ]
  },
  {
   "cell_type": "markdown",
   "metadata": {},
   "source": [
    "# join"
   ]
  },
  {
   "cell_type": "code",
   "execution_count": 28,
   "metadata": {},
   "outputs": [
    {
     "output_type": "execute_result",
     "data": {
      "text/plain": "   id    uid username  age\n0   1  10001     nick   23\n1   2  10002      bob   24\n2   3  10003    david   17\n3   4  10004    alice   29\n4   5  10005      tom   30\n5   6  10006      jim   43\n6   7  10007    jimmy   41\n7   8  10008     john   28\n8   9  10009    frank   20",
      "text/html": "<div>\n<style scoped>\n    .dataframe tbody tr th:only-of-type {\n        vertical-align: middle;\n    }\n\n    .dataframe tbody tr th {\n        vertical-align: top;\n    }\n\n    .dataframe thead th {\n        text-align: right;\n    }\n</style>\n<table border=\"1\" class=\"dataframe\">\n  <thead>\n    <tr style=\"text-align: right;\">\n      <th></th>\n      <th>id</th>\n      <th>uid</th>\n      <th>username</th>\n      <th>age</th>\n    </tr>\n  </thead>\n  <tbody>\n    <tr>\n      <th>0</th>\n      <td>1</td>\n      <td>10001</td>\n      <td>nick</td>\n      <td>23</td>\n    </tr>\n    <tr>\n      <th>1</th>\n      <td>2</td>\n      <td>10002</td>\n      <td>bob</td>\n      <td>24</td>\n    </tr>\n    <tr>\n      <th>2</th>\n      <td>3</td>\n      <td>10003</td>\n      <td>david</td>\n      <td>17</td>\n    </tr>\n    <tr>\n      <th>3</th>\n      <td>4</td>\n      <td>10004</td>\n      <td>alice</td>\n      <td>29</td>\n    </tr>\n    <tr>\n      <th>4</th>\n      <td>5</td>\n      <td>10005</td>\n      <td>tom</td>\n      <td>30</td>\n    </tr>\n    <tr>\n      <th>5</th>\n      <td>6</td>\n      <td>10006</td>\n      <td>jim</td>\n      <td>43</td>\n    </tr>\n    <tr>\n      <th>6</th>\n      <td>7</td>\n      <td>10007</td>\n      <td>jimmy</td>\n      <td>41</td>\n    </tr>\n    <tr>\n      <th>7</th>\n      <td>8</td>\n      <td>10008</td>\n      <td>john</td>\n      <td>28</td>\n    </tr>\n    <tr>\n      <th>8</th>\n      <td>9</td>\n      <td>10009</td>\n      <td>frank</td>\n      <td>20</td>\n    </tr>\n  </tbody>\n</table>\n</div>"
     },
     "metadata": {},
     "execution_count": 28
    }
   ],
   "source": [
    "user_data =pd.read_csv('user.csv')\n",
    "user_data"
   ]
  },
  {
   "cell_type": "code",
   "execution_count": 29,
   "metadata": {},
   "outputs": [
    {
     "output_type": "execute_result",
     "data": {
      "text/plain": "    id_x    uid username  age  id_y               ts         orderid  amount\n0      1  10001     nick   23     2   2019/8/1 10:00  20190801100006   89.33\n1      1  10001     nick   23     5   2019/8/1 14:05  20190801140515   87.15\n2      1  10001     nick   23    10   2019/8/2 15:18  20190802151834   71.38\n3      1  10001     nick   23    16   2019/8/2 20:08  20190802200816   82.12\n4      1  10001     nick   23    25   2019/8/4 12:05  20190804120513   39.76\n..   ...    ...      ...  ...   ...              ...             ...     ...\n78     9  10009    frank   20    39   2019/8/6 12:05  20190806120531   73.56\n79     9  10009    frank   20    48   2019/8/7 17:17  20190807171717   57.67\n80     9  10009    frank   20    49   2019/8/7 19:03  20190807190318   50.73\n81     9  10009    frank   20    59   2019/8/9 10:11  20190809101113   79.49\n82     9  10009    frank   20    76  2019/8/10 17:06  20190810170641   31.54\n\n[83 rows x 8 columns]",
      "text/html": "<div>\n<style scoped>\n    .dataframe tbody tr th:only-of-type {\n        vertical-align: middle;\n    }\n\n    .dataframe tbody tr th {\n        vertical-align: top;\n    }\n\n    .dataframe thead th {\n        text-align: right;\n    }\n</style>\n<table border=\"1\" class=\"dataframe\">\n  <thead>\n    <tr style=\"text-align: right;\">\n      <th></th>\n      <th>id_x</th>\n      <th>uid</th>\n      <th>username</th>\n      <th>age</th>\n      <th>id_y</th>\n      <th>ts</th>\n      <th>orderid</th>\n      <th>amount</th>\n    </tr>\n  </thead>\n  <tbody>\n    <tr>\n      <th>0</th>\n      <td>1</td>\n      <td>10001</td>\n      <td>nick</td>\n      <td>23</td>\n      <td>2</td>\n      <td>2019/8/1 10:00</td>\n      <td>20190801100006</td>\n      <td>89.33</td>\n    </tr>\n    <tr>\n      <th>1</th>\n      <td>1</td>\n      <td>10001</td>\n      <td>nick</td>\n      <td>23</td>\n      <td>5</td>\n      <td>2019/8/1 14:05</td>\n      <td>20190801140515</td>\n      <td>87.15</td>\n    </tr>\n    <tr>\n      <th>2</th>\n      <td>1</td>\n      <td>10001</td>\n      <td>nick</td>\n      <td>23</td>\n      <td>10</td>\n      <td>2019/8/2 15:18</td>\n      <td>20190802151834</td>\n      <td>71.38</td>\n    </tr>\n    <tr>\n      <th>3</th>\n      <td>1</td>\n      <td>10001</td>\n      <td>nick</td>\n      <td>23</td>\n      <td>16</td>\n      <td>2019/8/2 20:08</td>\n      <td>20190802200816</td>\n      <td>82.12</td>\n    </tr>\n    <tr>\n      <th>4</th>\n      <td>1</td>\n      <td>10001</td>\n      <td>nick</td>\n      <td>23</td>\n      <td>25</td>\n      <td>2019/8/4 12:05</td>\n      <td>20190804120513</td>\n      <td>39.76</td>\n    </tr>\n    <tr>\n      <th>...</th>\n      <td>...</td>\n      <td>...</td>\n      <td>...</td>\n      <td>...</td>\n      <td>...</td>\n      <td>...</td>\n      <td>...</td>\n      <td>...</td>\n    </tr>\n    <tr>\n      <th>78</th>\n      <td>9</td>\n      <td>10009</td>\n      <td>frank</td>\n      <td>20</td>\n      <td>39</td>\n      <td>2019/8/6 12:05</td>\n      <td>20190806120531</td>\n      <td>73.56</td>\n    </tr>\n    <tr>\n      <th>79</th>\n      <td>9</td>\n      <td>10009</td>\n      <td>frank</td>\n      <td>20</td>\n      <td>48</td>\n      <td>2019/8/7 17:17</td>\n      <td>20190807171717</td>\n      <td>57.67</td>\n    </tr>\n    <tr>\n      <th>80</th>\n      <td>9</td>\n      <td>10009</td>\n      <td>frank</td>\n      <td>20</td>\n      <td>49</td>\n      <td>2019/8/7 19:03</td>\n      <td>20190807190318</td>\n      <td>50.73</td>\n    </tr>\n    <tr>\n      <th>81</th>\n      <td>9</td>\n      <td>10009</td>\n      <td>frank</td>\n      <td>20</td>\n      <td>59</td>\n      <td>2019/8/9 10:11</td>\n      <td>20190809101113</td>\n      <td>79.49</td>\n    </tr>\n    <tr>\n      <th>82</th>\n      <td>9</td>\n      <td>10009</td>\n      <td>frank</td>\n      <td>20</td>\n      <td>76</td>\n      <td>2019/8/10 17:06</td>\n      <td>20190810170641</td>\n      <td>31.54</td>\n    </tr>\n  </tbody>\n</table>\n<p>83 rows × 8 columns</p>\n</div>"
     },
     "metadata": {},
     "execution_count": 29
    }
   ],
   "source": [
    "pd.merge (user_data, order_data, on = 'uid', how = 'left')"
   ]
  },
  {
   "cell_type": "code",
   "execution_count": 30,
   "metadata": {},
   "outputs": [
    {
     "output_type": "execute_result",
     "data": {
      "text/plain": "    id_x    uid username  age  id_y               ts         orderid  amount\n0      1  10001     nick   23     2   2019/8/1 10:00  20190801100006   89.33\n1      1  10001     nick   23     5   2019/8/1 14:05  20190801140515   87.15\n2      1  10001     nick   23    10   2019/8/2 15:18  20190802151834   71.38\n3      1  10001     nick   23    16   2019/8/2 20:08  20190802200816   82.12\n4      1  10001     nick   23    25   2019/8/4 12:05  20190804120513   39.76\n..   ...    ...      ...  ...   ...              ...             ...     ...\n78     9  10009    frank   20    39   2019/8/6 12:05  20190806120531   73.56\n79     9  10009    frank   20    48   2019/8/7 17:17  20190807171717   57.67\n80     9  10009    frank   20    49   2019/8/7 19:03  20190807190318   50.73\n81     9  10009    frank   20    59   2019/8/9 10:11  20190809101113   79.49\n82     9  10009    frank   20    76  2019/8/10 17:06  20190810170641   31.54\n\n[83 rows x 8 columns]",
      "text/html": "<div>\n<style scoped>\n    .dataframe tbody tr th:only-of-type {\n        vertical-align: middle;\n    }\n\n    .dataframe tbody tr th {\n        vertical-align: top;\n    }\n\n    .dataframe thead th {\n        text-align: right;\n    }\n</style>\n<table border=\"1\" class=\"dataframe\">\n  <thead>\n    <tr style=\"text-align: right;\">\n      <th></th>\n      <th>id_x</th>\n      <th>uid</th>\n      <th>username</th>\n      <th>age</th>\n      <th>id_y</th>\n      <th>ts</th>\n      <th>orderid</th>\n      <th>amount</th>\n    </tr>\n  </thead>\n  <tbody>\n    <tr>\n      <th>0</th>\n      <td>1</td>\n      <td>10001</td>\n      <td>nick</td>\n      <td>23</td>\n      <td>2</td>\n      <td>2019/8/1 10:00</td>\n      <td>20190801100006</td>\n      <td>89.33</td>\n    </tr>\n    <tr>\n      <th>1</th>\n      <td>1</td>\n      <td>10001</td>\n      <td>nick</td>\n      <td>23</td>\n      <td>5</td>\n      <td>2019/8/1 14:05</td>\n      <td>20190801140515</td>\n      <td>87.15</td>\n    </tr>\n    <tr>\n      <th>2</th>\n      <td>1</td>\n      <td>10001</td>\n      <td>nick</td>\n      <td>23</td>\n      <td>10</td>\n      <td>2019/8/2 15:18</td>\n      <td>20190802151834</td>\n      <td>71.38</td>\n    </tr>\n    <tr>\n      <th>3</th>\n      <td>1</td>\n      <td>10001</td>\n      <td>nick</td>\n      <td>23</td>\n      <td>16</td>\n      <td>2019/8/2 20:08</td>\n      <td>20190802200816</td>\n      <td>82.12</td>\n    </tr>\n    <tr>\n      <th>4</th>\n      <td>1</td>\n      <td>10001</td>\n      <td>nick</td>\n      <td>23</td>\n      <td>25</td>\n      <td>2019/8/4 12:05</td>\n      <td>20190804120513</td>\n      <td>39.76</td>\n    </tr>\n    <tr>\n      <th>...</th>\n      <td>...</td>\n      <td>...</td>\n      <td>...</td>\n      <td>...</td>\n      <td>...</td>\n      <td>...</td>\n      <td>...</td>\n      <td>...</td>\n    </tr>\n    <tr>\n      <th>78</th>\n      <td>9</td>\n      <td>10009</td>\n      <td>frank</td>\n      <td>20</td>\n      <td>39</td>\n      <td>2019/8/6 12:05</td>\n      <td>20190806120531</td>\n      <td>73.56</td>\n    </tr>\n    <tr>\n      <th>79</th>\n      <td>9</td>\n      <td>10009</td>\n      <td>frank</td>\n      <td>20</td>\n      <td>48</td>\n      <td>2019/8/7 17:17</td>\n      <td>20190807171717</td>\n      <td>57.67</td>\n    </tr>\n    <tr>\n      <th>80</th>\n      <td>9</td>\n      <td>10009</td>\n      <td>frank</td>\n      <td>20</td>\n      <td>49</td>\n      <td>2019/8/7 19:03</td>\n      <td>20190807190318</td>\n      <td>50.73</td>\n    </tr>\n    <tr>\n      <th>81</th>\n      <td>9</td>\n      <td>10009</td>\n      <td>frank</td>\n      <td>20</td>\n      <td>59</td>\n      <td>2019/8/9 10:11</td>\n      <td>20190809101113</td>\n      <td>79.49</td>\n    </tr>\n    <tr>\n      <th>82</th>\n      <td>9</td>\n      <td>10009</td>\n      <td>frank</td>\n      <td>20</td>\n      <td>76</td>\n      <td>2019/8/10 17:06</td>\n      <td>20190810170641</td>\n      <td>31.54</td>\n    </tr>\n  </tbody>\n</table>\n<p>83 rows × 8 columns</p>\n</div>"
     },
     "metadata": {},
     "execution_count": 30
    }
   ],
   "source": [
    "pd.merge (user_data, order_data, on = 'uid', how = 'inner')"
   ]
  },
  {
   "cell_type": "code",
   "execution_count": 31,
   "metadata": {},
   "outputs": [
    {
     "output_type": "execute_result",
     "data": {
      "text/plain": "    id_x    uid username  age  id_y               ts         orderid  amount\n0      1  10001     nick   23     2   2019/8/1 10:00  20190801100006   89.33\n1      1  10001     nick   23     5   2019/8/1 14:05  20190801140515   87.15\n2      1  10001     nick   23    10   2019/8/2 15:18  20190802151834   71.38\n3      1  10001     nick   23    16   2019/8/2 20:08  20190802200816   82.12\n4      1  10001     nick   23    25   2019/8/4 12:05  20190804120513   39.76\n..   ...    ...      ...  ...   ...              ...             ...     ...\n78     9  10009    frank   20    39   2019/8/6 12:05  20190806120531   73.56\n79     9  10009    frank   20    48   2019/8/7 17:17  20190807171717   57.67\n80     9  10009    frank   20    49   2019/8/7 19:03  20190807190318   50.73\n81     9  10009    frank   20    59   2019/8/9 10:11  20190809101113   79.49\n82     9  10009    frank   20    76  2019/8/10 17:06  20190810170641   31.54\n\n[83 rows x 8 columns]",
      "text/html": "<div>\n<style scoped>\n    .dataframe tbody tr th:only-of-type {\n        vertical-align: middle;\n    }\n\n    .dataframe tbody tr th {\n        vertical-align: top;\n    }\n\n    .dataframe thead th {\n        text-align: right;\n    }\n</style>\n<table border=\"1\" class=\"dataframe\">\n  <thead>\n    <tr style=\"text-align: right;\">\n      <th></th>\n      <th>id_x</th>\n      <th>uid</th>\n      <th>username</th>\n      <th>age</th>\n      <th>id_y</th>\n      <th>ts</th>\n      <th>orderid</th>\n      <th>amount</th>\n    </tr>\n  </thead>\n  <tbody>\n    <tr>\n      <th>0</th>\n      <td>1</td>\n      <td>10001</td>\n      <td>nick</td>\n      <td>23</td>\n      <td>2</td>\n      <td>2019/8/1 10:00</td>\n      <td>20190801100006</td>\n      <td>89.33</td>\n    </tr>\n    <tr>\n      <th>1</th>\n      <td>1</td>\n      <td>10001</td>\n      <td>nick</td>\n      <td>23</td>\n      <td>5</td>\n      <td>2019/8/1 14:05</td>\n      <td>20190801140515</td>\n      <td>87.15</td>\n    </tr>\n    <tr>\n      <th>2</th>\n      <td>1</td>\n      <td>10001</td>\n      <td>nick</td>\n      <td>23</td>\n      <td>10</td>\n      <td>2019/8/2 15:18</td>\n      <td>20190802151834</td>\n      <td>71.38</td>\n    </tr>\n    <tr>\n      <th>3</th>\n      <td>1</td>\n      <td>10001</td>\n      <td>nick</td>\n      <td>23</td>\n      <td>16</td>\n      <td>2019/8/2 20:08</td>\n      <td>20190802200816</td>\n      <td>82.12</td>\n    </tr>\n    <tr>\n      <th>4</th>\n      <td>1</td>\n      <td>10001</td>\n      <td>nick</td>\n      <td>23</td>\n      <td>25</td>\n      <td>2019/8/4 12:05</td>\n      <td>20190804120513</td>\n      <td>39.76</td>\n    </tr>\n    <tr>\n      <th>...</th>\n      <td>...</td>\n      <td>...</td>\n      <td>...</td>\n      <td>...</td>\n      <td>...</td>\n      <td>...</td>\n      <td>...</td>\n      <td>...</td>\n    </tr>\n    <tr>\n      <th>78</th>\n      <td>9</td>\n      <td>10009</td>\n      <td>frank</td>\n      <td>20</td>\n      <td>39</td>\n      <td>2019/8/6 12:05</td>\n      <td>20190806120531</td>\n      <td>73.56</td>\n    </tr>\n    <tr>\n      <th>79</th>\n      <td>9</td>\n      <td>10009</td>\n      <td>frank</td>\n      <td>20</td>\n      <td>48</td>\n      <td>2019/8/7 17:17</td>\n      <td>20190807171717</td>\n      <td>57.67</td>\n    </tr>\n    <tr>\n      <th>80</th>\n      <td>9</td>\n      <td>10009</td>\n      <td>frank</td>\n      <td>20</td>\n      <td>49</td>\n      <td>2019/8/7 19:03</td>\n      <td>20190807190318</td>\n      <td>50.73</td>\n    </tr>\n    <tr>\n      <th>81</th>\n      <td>9</td>\n      <td>10009</td>\n      <td>frank</td>\n      <td>20</td>\n      <td>59</td>\n      <td>2019/8/9 10:11</td>\n      <td>20190809101113</td>\n      <td>79.49</td>\n    </tr>\n    <tr>\n      <th>82</th>\n      <td>9</td>\n      <td>10009</td>\n      <td>frank</td>\n      <td>20</td>\n      <td>76</td>\n      <td>2019/8/10 17:06</td>\n      <td>20190810170641</td>\n      <td>31.54</td>\n    </tr>\n  </tbody>\n</table>\n<p>83 rows × 8 columns</p>\n</div>"
     },
     "metadata": {},
     "execution_count": 31
    }
   ],
   "source": [
    "pd.merge (user_data, order_data, on = 'uid', how = 'outer')"
   ]
  },
  {
   "cell_type": "code",
   "execution_count": 32,
   "metadata": {},
   "outputs": [
    {
     "output_type": "execute_result",
     "data": {
      "text/plain": "    id_x    uid username  age  id_y               ts         orderid  amount\n0      1  10001     nick   23     2   2019/8/1 10:00  20190801100006   89.33\n1      1  10001     nick   23     5   2019/8/1 14:05  20190801140515   87.15\n2      1  10001     nick   23    10   2019/8/2 15:18  20190802151834   71.38\n3      1  10001     nick   23    16   2019/8/2 20:08  20190802200816   82.12\n4      1  10001     nick   23    25   2019/8/4 12:05  20190804120513   39.76\n..   ...    ...      ...  ...   ...              ...             ...     ...\n78     9  10009    frank   20    39   2019/8/6 12:05  20190806120531   73.56\n79     9  10009    frank   20    48   2019/8/7 17:17  20190807171717   57.67\n80     9  10009    frank   20    49   2019/8/7 19:03  20190807190318   50.73\n81     9  10009    frank   20    59   2019/8/9 10:11  20190809101113   79.49\n82     9  10009    frank   20    76  2019/8/10 17:06  20190810170641   31.54\n\n[83 rows x 8 columns]",
      "text/html": "<div>\n<style scoped>\n    .dataframe tbody tr th:only-of-type {\n        vertical-align: middle;\n    }\n\n    .dataframe tbody tr th {\n        vertical-align: top;\n    }\n\n    .dataframe thead th {\n        text-align: right;\n    }\n</style>\n<table border=\"1\" class=\"dataframe\">\n  <thead>\n    <tr style=\"text-align: right;\">\n      <th></th>\n      <th>id_x</th>\n      <th>uid</th>\n      <th>username</th>\n      <th>age</th>\n      <th>id_y</th>\n      <th>ts</th>\n      <th>orderid</th>\n      <th>amount</th>\n    </tr>\n  </thead>\n  <tbody>\n    <tr>\n      <th>0</th>\n      <td>1</td>\n      <td>10001</td>\n      <td>nick</td>\n      <td>23</td>\n      <td>2</td>\n      <td>2019/8/1 10:00</td>\n      <td>20190801100006</td>\n      <td>89.33</td>\n    </tr>\n    <tr>\n      <th>1</th>\n      <td>1</td>\n      <td>10001</td>\n      <td>nick</td>\n      <td>23</td>\n      <td>5</td>\n      <td>2019/8/1 14:05</td>\n      <td>20190801140515</td>\n      <td>87.15</td>\n    </tr>\n    <tr>\n      <th>2</th>\n      <td>1</td>\n      <td>10001</td>\n      <td>nick</td>\n      <td>23</td>\n      <td>10</td>\n      <td>2019/8/2 15:18</td>\n      <td>20190802151834</td>\n      <td>71.38</td>\n    </tr>\n    <tr>\n      <th>3</th>\n      <td>1</td>\n      <td>10001</td>\n      <td>nick</td>\n      <td>23</td>\n      <td>16</td>\n      <td>2019/8/2 20:08</td>\n      <td>20190802200816</td>\n      <td>82.12</td>\n    </tr>\n    <tr>\n      <th>4</th>\n      <td>1</td>\n      <td>10001</td>\n      <td>nick</td>\n      <td>23</td>\n      <td>25</td>\n      <td>2019/8/4 12:05</td>\n      <td>20190804120513</td>\n      <td>39.76</td>\n    </tr>\n    <tr>\n      <th>...</th>\n      <td>...</td>\n      <td>...</td>\n      <td>...</td>\n      <td>...</td>\n      <td>...</td>\n      <td>...</td>\n      <td>...</td>\n      <td>...</td>\n    </tr>\n    <tr>\n      <th>78</th>\n      <td>9</td>\n      <td>10009</td>\n      <td>frank</td>\n      <td>20</td>\n      <td>39</td>\n      <td>2019/8/6 12:05</td>\n      <td>20190806120531</td>\n      <td>73.56</td>\n    </tr>\n    <tr>\n      <th>79</th>\n      <td>9</td>\n      <td>10009</td>\n      <td>frank</td>\n      <td>20</td>\n      <td>48</td>\n      <td>2019/8/7 17:17</td>\n      <td>20190807171717</td>\n      <td>57.67</td>\n    </tr>\n    <tr>\n      <th>80</th>\n      <td>9</td>\n      <td>10009</td>\n      <td>frank</td>\n      <td>20</td>\n      <td>49</td>\n      <td>2019/8/7 19:03</td>\n      <td>20190807190318</td>\n      <td>50.73</td>\n    </tr>\n    <tr>\n      <th>81</th>\n      <td>9</td>\n      <td>10009</td>\n      <td>frank</td>\n      <td>20</td>\n      <td>59</td>\n      <td>2019/8/9 10:11</td>\n      <td>20190809101113</td>\n      <td>79.49</td>\n    </tr>\n    <tr>\n      <th>82</th>\n      <td>9</td>\n      <td>10009</td>\n      <td>frank</td>\n      <td>20</td>\n      <td>76</td>\n      <td>2019/8/10 17:06</td>\n      <td>20190810170641</td>\n      <td>31.54</td>\n    </tr>\n  </tbody>\n</table>\n<p>83 rows × 8 columns</p>\n</div>"
     },
     "metadata": {},
     "execution_count": 32
    }
   ],
   "source": [
    "pd.merge (user_data, order_data, on = 'uid', how = 'right')"
   ]
  },
  {
   "cell_type": "code",
   "execution_count": 33,
   "metadata": {},
   "outputs": [],
   "source": [
    "order_data2 = pd.read_csv('order2.csv')"
   ]
  },
  {
   "cell_type": "code",
   "execution_count": 34,
   "metadata": {},
   "outputs": [
    {
     "output_type": "execute_result",
     "data": {
      "text/plain": "     id                   ts    uid         orderid  amount\n0     1        2019/8/1 9:15  10005  20190801091540   48.43\n1     2       2019/8/1 10:00  10001  20190801100006   89.33\n2     3       2019/8/1 10:04  10003  20190801091540   63.86\n3     4       2019/8/1 12:17  10002  20190801121742    3.16\n4     5       2019/8/1 14:05  10001  20190801140515   87.15\n..  ...                  ...    ...             ...     ...\n82   83      2019/8/13 15:14  10002  20190813151443   46.87\n0   101      2019/8/10 19:24  10012  20190810191433   78.07\n1   102      2019/8/11 18:11  10017  20190811151111   82.76\n2   103      2019/8/12 15:36  10017  20190812151638   51.90\n3   104  2019/8/13  15:14843  10012  20190813151443   76.87\n\n[87 rows x 5 columns]",
      "text/html": "<div>\n<style scoped>\n    .dataframe tbody tr th:only-of-type {\n        vertical-align: middle;\n    }\n\n    .dataframe tbody tr th {\n        vertical-align: top;\n    }\n\n    .dataframe thead th {\n        text-align: right;\n    }\n</style>\n<table border=\"1\" class=\"dataframe\">\n  <thead>\n    <tr style=\"text-align: right;\">\n      <th></th>\n      <th>id</th>\n      <th>ts</th>\n      <th>uid</th>\n      <th>orderid</th>\n      <th>amount</th>\n    </tr>\n  </thead>\n  <tbody>\n    <tr>\n      <th>0</th>\n      <td>1</td>\n      <td>2019/8/1 9:15</td>\n      <td>10005</td>\n      <td>20190801091540</td>\n      <td>48.43</td>\n    </tr>\n    <tr>\n      <th>1</th>\n      <td>2</td>\n      <td>2019/8/1 10:00</td>\n      <td>10001</td>\n      <td>20190801100006</td>\n      <td>89.33</td>\n    </tr>\n    <tr>\n      <th>2</th>\n      <td>3</td>\n      <td>2019/8/1 10:04</td>\n      <td>10003</td>\n      <td>20190801091540</td>\n      <td>63.86</td>\n    </tr>\n    <tr>\n      <th>3</th>\n      <td>4</td>\n      <td>2019/8/1 12:17</td>\n      <td>10002</td>\n      <td>20190801121742</td>\n      <td>3.16</td>\n    </tr>\n    <tr>\n      <th>4</th>\n      <td>5</td>\n      <td>2019/8/1 14:05</td>\n      <td>10001</td>\n      <td>20190801140515</td>\n      <td>87.15</td>\n    </tr>\n    <tr>\n      <th>...</th>\n      <td>...</td>\n      <td>...</td>\n      <td>...</td>\n      <td>...</td>\n      <td>...</td>\n    </tr>\n    <tr>\n      <th>82</th>\n      <td>83</td>\n      <td>2019/8/13 15:14</td>\n      <td>10002</td>\n      <td>20190813151443</td>\n      <td>46.87</td>\n    </tr>\n    <tr>\n      <th>0</th>\n      <td>101</td>\n      <td>2019/8/10 19:24</td>\n      <td>10012</td>\n      <td>20190810191433</td>\n      <td>78.07</td>\n    </tr>\n    <tr>\n      <th>1</th>\n      <td>102</td>\n      <td>2019/8/11 18:11</td>\n      <td>10017</td>\n      <td>20190811151111</td>\n      <td>82.76</td>\n    </tr>\n    <tr>\n      <th>2</th>\n      <td>103</td>\n      <td>2019/8/12 15:36</td>\n      <td>10017</td>\n      <td>20190812151638</td>\n      <td>51.90</td>\n    </tr>\n    <tr>\n      <th>3</th>\n      <td>104</td>\n      <td>2019/8/13  15:14843</td>\n      <td>10012</td>\n      <td>20190813151443</td>\n      <td>76.87</td>\n    </tr>\n  </tbody>\n</table>\n<p>87 rows × 5 columns</p>\n</div>"
     },
     "metadata": {},
     "execution_count": 34
    }
   ],
   "source": [
    "order_union = pd.concat ([order_data, order_data2])\n",
    "order_union"
   ]
  },
  {
   "cell_type": "code",
   "execution_count": 35,
   "metadata": {},
   "outputs": [
    {
     "output_type": "execute_result",
     "data": {
      "text/plain": "     id                   ts    uid         orderid  amount\n0     1        2019/8/1 9:15  10005  20190801091540   48.43\n1     2       2019/8/1 10:00  10001  20190801100006   89.33\n2     3       2019/8/1 10:04  10003  20190801091540   63.86\n3     4       2019/8/1 12:17  10002  20190801121742    3.16\n4     5       2019/8/1 14:05  10001  20190801140515   87.15\n..  ...                  ...    ...             ...     ...\n82   83      2019/8/13 15:14  10002  20190813151443   46.87\n0   101      2019/8/10 19:24  10012  20190810191433   78.07\n1   102      2019/8/11 18:11  10017  20190811151111   82.76\n2   103      2019/8/12 15:36  10017  20190812151638   51.90\n3   104  2019/8/13  15:14843  10012  20190813151443   76.87\n\n[87 rows x 5 columns]",
      "text/html": "<div>\n<style scoped>\n    .dataframe tbody tr th:only-of-type {\n        vertical-align: middle;\n    }\n\n    .dataframe tbody tr th {\n        vertical-align: top;\n    }\n\n    .dataframe thead th {\n        text-align: right;\n    }\n</style>\n<table border=\"1\" class=\"dataframe\">\n  <thead>\n    <tr style=\"text-align: right;\">\n      <th></th>\n      <th>id</th>\n      <th>ts</th>\n      <th>uid</th>\n      <th>orderid</th>\n      <th>amount</th>\n    </tr>\n  </thead>\n  <tbody>\n    <tr>\n      <th>0</th>\n      <td>1</td>\n      <td>2019/8/1 9:15</td>\n      <td>10005</td>\n      <td>20190801091540</td>\n      <td>48.43</td>\n    </tr>\n    <tr>\n      <th>1</th>\n      <td>2</td>\n      <td>2019/8/1 10:00</td>\n      <td>10001</td>\n      <td>20190801100006</td>\n      <td>89.33</td>\n    </tr>\n    <tr>\n      <th>2</th>\n      <td>3</td>\n      <td>2019/8/1 10:04</td>\n      <td>10003</td>\n      <td>20190801091540</td>\n      <td>63.86</td>\n    </tr>\n    <tr>\n      <th>3</th>\n      <td>4</td>\n      <td>2019/8/1 12:17</td>\n      <td>10002</td>\n      <td>20190801121742</td>\n      <td>3.16</td>\n    </tr>\n    <tr>\n      <th>4</th>\n      <td>5</td>\n      <td>2019/8/1 14:05</td>\n      <td>10001</td>\n      <td>20190801140515</td>\n      <td>87.15</td>\n    </tr>\n    <tr>\n      <th>...</th>\n      <td>...</td>\n      <td>...</td>\n      <td>...</td>\n      <td>...</td>\n      <td>...</td>\n    </tr>\n    <tr>\n      <th>82</th>\n      <td>83</td>\n      <td>2019/8/13 15:14</td>\n      <td>10002</td>\n      <td>20190813151443</td>\n      <td>46.87</td>\n    </tr>\n    <tr>\n      <th>0</th>\n      <td>101</td>\n      <td>2019/8/10 19:24</td>\n      <td>10012</td>\n      <td>20190810191433</td>\n      <td>78.07</td>\n    </tr>\n    <tr>\n      <th>1</th>\n      <td>102</td>\n      <td>2019/8/11 18:11</td>\n      <td>10017</td>\n      <td>20190811151111</td>\n      <td>82.76</td>\n    </tr>\n    <tr>\n      <th>2</th>\n      <td>103</td>\n      <td>2019/8/12 15:36</td>\n      <td>10017</td>\n      <td>20190812151638</td>\n      <td>51.90</td>\n    </tr>\n    <tr>\n      <th>3</th>\n      <td>104</td>\n      <td>2019/8/13  15:14843</td>\n      <td>10012</td>\n      <td>20190813151443</td>\n      <td>76.87</td>\n    </tr>\n  </tbody>\n</table>\n<p>87 rows × 5 columns</p>\n</div>"
     },
     "metadata": {},
     "execution_count": 35
    }
   ],
   "source": [
    "order_union2 = pd.concat ([order_data, order_data2]).drop_duplicates()\n",
    "order_union2"
   ]
  },
  {
   "cell_type": "code",
   "execution_count": 36,
   "metadata": {},
   "outputs": [
    {
     "output_type": "execute_result",
     "data": {
      "text/plain": "uid\n10002    17\n10003    13\n10009    11\n10005     9\n10001     9\n10008     8\n10004     8\n10007     7\n10006     1\nName: orderid, dtype: int64"
     },
     "metadata": {},
     "execution_count": 36
    }
   ],
   "source": [
    "order_data.groupby ('uid')['orderid'].nunique().sort_values(ascending = False)"
   ]
  },
  {
   "cell_type": "code",
   "execution_count": 37,
   "metadata": {},
   "outputs": [
    {
     "output_type": "execute_result",
     "data": {
      "text/plain": "       order_cnt  sum_amount\nuid                         \n10001          9      528.15\n10002         17      775.60\n10003         13      686.17\n10004          8      591.39\n10005          9      444.01\n10006          1       65.44\n10007          7      331.65\n10008          8      425.38\n10009         11      621.32",
      "text/html": "<div>\n<style scoped>\n    .dataframe tbody tr th:only-of-type {\n        vertical-align: middle;\n    }\n\n    .dataframe tbody tr th {\n        vertical-align: top;\n    }\n\n    .dataframe thead th {\n        text-align: right;\n    }\n</style>\n<table border=\"1\" class=\"dataframe\">\n  <thead>\n    <tr style=\"text-align: right;\">\n      <th></th>\n      <th>order_cnt</th>\n      <th>sum_amount</th>\n    </tr>\n    <tr>\n      <th>uid</th>\n      <th></th>\n      <th></th>\n    </tr>\n  </thead>\n  <tbody>\n    <tr>\n      <th>10001</th>\n      <td>9</td>\n      <td>528.15</td>\n    </tr>\n    <tr>\n      <th>10002</th>\n      <td>17</td>\n      <td>775.60</td>\n    </tr>\n    <tr>\n      <th>10003</th>\n      <td>13</td>\n      <td>686.17</td>\n    </tr>\n    <tr>\n      <th>10004</th>\n      <td>8</td>\n      <td>591.39</td>\n    </tr>\n    <tr>\n      <th>10005</th>\n      <td>9</td>\n      <td>444.01</td>\n    </tr>\n    <tr>\n      <th>10006</th>\n      <td>1</td>\n      <td>65.44</td>\n    </tr>\n    <tr>\n      <th>10007</th>\n      <td>7</td>\n      <td>331.65</td>\n    </tr>\n    <tr>\n      <th>10008</th>\n      <td>8</td>\n      <td>425.38</td>\n    </tr>\n    <tr>\n      <th>10009</th>\n      <td>11</td>\n      <td>621.32</td>\n    </tr>\n  </tbody>\n</table>\n</div>"
     },
     "metadata": {},
     "execution_count": 37
    }
   ],
   "source": [
    "order_df = order_data.groupby('uid').agg({'orderid' : np.size, 'amount' : np.sum})\n",
    "order_df.rename (columns= {'orderid' : 'order_cnt', 'amount' : 'sum_amount'}, inplace= True)\n",
    "order_df.sort_values (by = ['uid', 'sum_amount'], ascending = [True,False])"
   ]
  },
  {
   "cell_type": "code",
   "execution_count": 38,
   "metadata": {},
   "outputs": [],
   "source": [
    "def func(x):\n",
    "        if x < 300:\n",
    "            return '(0-300)'\n",
    "        elif x < 600:\n",
    "            return '(300,600)'\n",
    "        else:\n",
    "            return '(600,900)'"
   ]
  },
  {
   "cell_type": "code",
   "execution_count": 39,
   "metadata": {},
   "outputs": [
    {
     "output_type": "execute_result",
     "data": {
      "text/plain": "       order_cnt  sum_amount amt_intreval\nuid                                      \n10001          9      528.15    (300,600)\n10002         17      775.60    (600,900)\n10003         13      686.17    (600,900)\n10004          8      591.39    (300,600)\n10005          9      444.01    (300,600)\n10006          1       65.44      (0-300)\n10007          7      331.65    (300,600)\n10008          8      425.38    (300,600)\n10009         11      621.32    (600,900)",
      "text/html": "<div>\n<style scoped>\n    .dataframe tbody tr th:only-of-type {\n        vertical-align: middle;\n    }\n\n    .dataframe tbody tr th {\n        vertical-align: top;\n    }\n\n    .dataframe thead th {\n        text-align: right;\n    }\n</style>\n<table border=\"1\" class=\"dataframe\">\n  <thead>\n    <tr style=\"text-align: right;\">\n      <th></th>\n      <th>order_cnt</th>\n      <th>sum_amount</th>\n      <th>amt_intreval</th>\n    </tr>\n    <tr>\n      <th>uid</th>\n      <th></th>\n      <th></th>\n      <th></th>\n    </tr>\n  </thead>\n  <tbody>\n    <tr>\n      <th>10001</th>\n      <td>9</td>\n      <td>528.15</td>\n      <td>(300,600)</td>\n    </tr>\n    <tr>\n      <th>10002</th>\n      <td>17</td>\n      <td>775.60</td>\n      <td>(600,900)</td>\n    </tr>\n    <tr>\n      <th>10003</th>\n      <td>13</td>\n      <td>686.17</td>\n      <td>(600,900)</td>\n    </tr>\n    <tr>\n      <th>10004</th>\n      <td>8</td>\n      <td>591.39</td>\n      <td>(300,600)</td>\n    </tr>\n    <tr>\n      <th>10005</th>\n      <td>9</td>\n      <td>444.01</td>\n      <td>(300,600)</td>\n    </tr>\n    <tr>\n      <th>10006</th>\n      <td>1</td>\n      <td>65.44</td>\n      <td>(0-300)</td>\n    </tr>\n    <tr>\n      <th>10007</th>\n      <td>7</td>\n      <td>331.65</td>\n      <td>(300,600)</td>\n    </tr>\n    <tr>\n      <th>10008</th>\n      <td>8</td>\n      <td>425.38</td>\n      <td>(300,600)</td>\n    </tr>\n    <tr>\n      <th>10009</th>\n      <td>11</td>\n      <td>621.32</td>\n      <td>(600,900)</td>\n    </tr>\n  </tbody>\n</table>\n</div>"
     },
     "metadata": {},
     "execution_count": 39
    }
   ],
   "source": [
    "order_df['amt_intreval'] = order_df['sum_amount'].map(func)\n",
    "order_df"
   ]
  },
  {
   "cell_type": "code",
   "execution_count": 40,
   "metadata": {},
   "outputs": [
    {
     "output_type": "execute_result",
     "data": {
      "text/plain": "[(0.993, 3.333], (0.993, 3.333], (0.993, 3.333], (3.333, 5.667], (3.333, 5.667], (5.667, 8.0], (5.667, 8.0], (5.667, 8.0], (5.667, 8.0]]\nCategories (3, interval[float64]): [(0.993, 3.333] < (3.333, 5.667] < (5.667, 8.0]]"
     },
     "metadata": {},
     "execution_count": 40
    }
   ],
   "source": [
    "pd.cut(np.array([1,2,3,4,5,6,7,7,8]),3)"
   ]
  }
 ],
 "metadata": {
  "kernelspec": {
   "display_name": "Python 3",
   "language": "python",
   "name": "python3"
  },
  "language_info": {
   "codemirror_mode": {
    "name": "ipython",
    "version": 3
   },
   "file_extension": ".py",
   "mimetype": "text/x-python",
   "name": "python",
   "nbconvert_exporter": "python",
   "pygments_lexer": "ipython3",
   "version": "3.7.4-final"
  }
 },
 "nbformat": 4,
 "nbformat_minor": 4
}
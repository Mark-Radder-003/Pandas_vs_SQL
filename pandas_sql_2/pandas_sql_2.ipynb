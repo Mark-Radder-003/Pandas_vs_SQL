{
 "cells": [
  {
   "cell_type": "markdown",
   "metadata": {},
   "source": [
    "# Pandas_vs_SQL_2\n",
    "- string funcation"
   ]
  },
  {
   "cell_type": "code",
   "execution_count": 24,
   "metadata": {},
   "outputs": [
    {
     "output_type": "execute_result",
     "data": {
      "text/plain": "'1.0.3'"
     },
     "metadata": {},
     "execution_count": 24
    }
   ],
   "source": [
    "import pandas as pd\n",
    "import numpy as np\n",
    "pd.__version__"
   ]
  },
  {
   "cell_type": "markdown",
   "metadata": {},
   "source": [
    "# Raw Data"
   ]
  },
  {
   "cell_type": "code",
   "execution_count": 27,
   "metadata": {},
   "outputs": [
    {
     "output_type": "execute_result",
     "data": {
      "text/plain": "   id                ts    uid      orderid  amount\n0  id                ts    uid      orderid  amount\n1   1   2019/08/01 9:15  10005  2.01908E+13   48.43\n2   2  2019/08/01 10:00  10001  2.01908E+13   89.33\n3   3  2019/08/01 10:04  10003  2.01908E+13   63.86\n4   4  2019/08/01 12:17  10002  2.01908E+13    3.16",
      "text/html": "<div>\n<style scoped>\n    .dataframe tbody tr th:only-of-type {\n        vertical-align: middle;\n    }\n\n    .dataframe tbody tr th {\n        vertical-align: top;\n    }\n\n    .dataframe thead th {\n        text-align: right;\n    }\n</style>\n<table border=\"1\" class=\"dataframe\">\n  <thead>\n    <tr style=\"text-align: right;\">\n      <th></th>\n      <th>id</th>\n      <th>ts</th>\n      <th>uid</th>\n      <th>orderid</th>\n      <th>amount</th>\n    </tr>\n  </thead>\n  <tbody>\n    <tr>\n      <th>0</th>\n      <td>id</td>\n      <td>ts</td>\n      <td>uid</td>\n      <td>orderid</td>\n      <td>amount</td>\n    </tr>\n    <tr>\n      <th>1</th>\n      <td>1</td>\n      <td>2019/08/01 9:15</td>\n      <td>10005</td>\n      <td>2.01908E+13</td>\n      <td>48.43</td>\n    </tr>\n    <tr>\n      <th>2</th>\n      <td>2</td>\n      <td>2019/08/01 10:00</td>\n      <td>10001</td>\n      <td>2.01908E+13</td>\n      <td>89.33</td>\n    </tr>\n    <tr>\n      <th>3</th>\n      <td>3</td>\n      <td>2019/08/01 10:04</td>\n      <td>10003</td>\n      <td>2.01908E+13</td>\n      <td>63.86</td>\n    </tr>\n    <tr>\n      <th>4</th>\n      <td>4</td>\n      <td>2019/08/01 12:17</td>\n      <td>10002</td>\n      <td>2.01908E+13</td>\n      <td>3.16</td>\n    </tr>\n  </tbody>\n</table>\n</div>"
     },
     "metadata": {},
     "execution_count": 27
    }
   ],
   "source": [
    "# order_data = pd.read_csv('order.csv', names=['id', 'ts', 'uid', 'orderid', 'amount'])\n",
    "order_data.head()"
   ]
  },
  {
   "cell_type": "markdown",
   "metadata": {},
   "source": [
    "## subtstr in pandas\n",
    "```\n",
    "select\n",
    "    *\n",
    "    ,subtstr(ts, 1, 10) as dt\n",
    "    ,substring(orderid, 1, 8) as dt2\n",
    "from t_order\n",
    "```"
   ]
  },
  {
   "cell_type": "code",
   "execution_count": 28,
   "metadata": {},
   "outputs": [
    {
     "output_type": "execute_result",
     "data": {
      "text/plain": "   id                ts    uid      orderid  amount          dt       dt2\n0  id                ts    uid      orderid  amount          ts   orderid\n1   1   2019/08/01 9:15  10005  2.01908E+13   48.43  2019/08/01  2.01908E\n2   2  2019/08/01 10:00  10001  2.01908E+13   89.33  2019/08/01  2.01908E\n3   3  2019/08/01 10:04  10003  2.01908E+13   63.86  2019/08/01  2.01908E\n4   4  2019/08/01 12:17  10002  2.01908E+13    3.16  2019/08/01  2.01908E",
      "text/html": "<div>\n<style scoped>\n    .dataframe tbody tr th:only-of-type {\n        vertical-align: middle;\n    }\n\n    .dataframe tbody tr th {\n        vertical-align: top;\n    }\n\n    .dataframe thead th {\n        text-align: right;\n    }\n</style>\n<table border=\"1\" class=\"dataframe\">\n  <thead>\n    <tr style=\"text-align: right;\">\n      <th></th>\n      <th>id</th>\n      <th>ts</th>\n      <th>uid</th>\n      <th>orderid</th>\n      <th>amount</th>\n      <th>dt</th>\n      <th>dt2</th>\n    </tr>\n  </thead>\n  <tbody>\n    <tr>\n      <th>0</th>\n      <td>id</td>\n      <td>ts</td>\n      <td>uid</td>\n      <td>orderid</td>\n      <td>amount</td>\n      <td>ts</td>\n      <td>orderid</td>\n    </tr>\n    <tr>\n      <th>1</th>\n      <td>1</td>\n      <td>2019/08/01 9:15</td>\n      <td>10005</td>\n      <td>2.01908E+13</td>\n      <td>48.43</td>\n      <td>2019/08/01</td>\n      <td>2.01908E</td>\n    </tr>\n    <tr>\n      <th>2</th>\n      <td>2</td>\n      <td>2019/08/01 10:00</td>\n      <td>10001</td>\n      <td>2.01908E+13</td>\n      <td>89.33</td>\n      <td>2019/08/01</td>\n      <td>2.01908E</td>\n    </tr>\n    <tr>\n      <th>3</th>\n      <td>3</td>\n      <td>2019/08/01 10:04</td>\n      <td>10003</td>\n      <td>2.01908E+13</td>\n      <td>63.86</td>\n      <td>2019/08/01</td>\n      <td>2.01908E</td>\n    </tr>\n    <tr>\n      <th>4</th>\n      <td>4</td>\n      <td>2019/08/01 12:17</td>\n      <td>10002</td>\n      <td>2.01908E+13</td>\n      <td>3.16</td>\n      <td>2019/08/01</td>\n      <td>2.01908E</td>\n    </tr>\n  </tbody>\n</table>\n</div>"
     },
     "metadata": {},
     "execution_count": 28
    }
   ],
   "source": [
    "order_data['dt'] = order_data['ts'].str[:10]\n",
    "# order_data['dt2'] = order_data['orderid'].str[:8]\n",
    "# astype(str) ≈ cast (xxx as str)\n",
    "order_data['dt2'] = order_data['orderid'].astype(str).str[:8]\n",
    "order_data.head()"
   ]
  },
  {
   "cell_type": "markdown",
   "metadata": {},
   "source": [
    "## pattern matching sql in pandas\n",
    "### like\n",
    "\n",
    "```\n",
    "select\n",
    "    *\n",
    "from t_order\n",
    "where ts like '%08/01%'\n",
    "```"
   ]
  },
  {
   "cell_type": "code",
   "execution_count": 29,
   "metadata": {},
   "outputs": [
    {
     "output_type": "execute_result",
     "data": {
      "text/plain": "  id                ts    uid      orderid amount          dt       dt2\n1  1   2019/08/01 9:15  10005  2.01908E+13  48.43  2019/08/01  2.01908E\n2  2  2019/08/01 10:00  10001  2.01908E+13  89.33  2019/08/01  2.01908E\n3  3  2019/08/01 10:04  10003  2.01908E+13  63.86  2019/08/01  2.01908E\n4  4  2019/08/01 12:17  10002  2.01908E+13   3.16  2019/08/01  2.01908E\n5  5  2019/08/01 14:05  10001  2.01908E+13  87.15  2019/08/01  2.01908E\n6  6  2019/08/01 14:05  10004  2.01908E+13  88.65  2019/08/01  2.01908E",
      "text/html": "<div>\n<style scoped>\n    .dataframe tbody tr th:only-of-type {\n        vertical-align: middle;\n    }\n\n    .dataframe tbody tr th {\n        vertical-align: top;\n    }\n\n    .dataframe thead th {\n        text-align: right;\n    }\n</style>\n<table border=\"1\" class=\"dataframe\">\n  <thead>\n    <tr style=\"text-align: right;\">\n      <th></th>\n      <th>id</th>\n      <th>ts</th>\n      <th>uid</th>\n      <th>orderid</th>\n      <th>amount</th>\n      <th>dt</th>\n      <th>dt2</th>\n    </tr>\n  </thead>\n  <tbody>\n    <tr>\n      <th>1</th>\n      <td>1</td>\n      <td>2019/08/01 9:15</td>\n      <td>10005</td>\n      <td>2.01908E+13</td>\n      <td>48.43</td>\n      <td>2019/08/01</td>\n      <td>2.01908E</td>\n    </tr>\n    <tr>\n      <th>2</th>\n      <td>2</td>\n      <td>2019/08/01 10:00</td>\n      <td>10001</td>\n      <td>2.01908E+13</td>\n      <td>89.33</td>\n      <td>2019/08/01</td>\n      <td>2.01908E</td>\n    </tr>\n    <tr>\n      <th>3</th>\n      <td>3</td>\n      <td>2019/08/01 10:04</td>\n      <td>10003</td>\n      <td>2.01908E+13</td>\n      <td>63.86</td>\n      <td>2019/08/01</td>\n      <td>2.01908E</td>\n    </tr>\n    <tr>\n      <th>4</th>\n      <td>4</td>\n      <td>2019/08/01 12:17</td>\n      <td>10002</td>\n      <td>2.01908E+13</td>\n      <td>3.16</td>\n      <td>2019/08/01</td>\n      <td>2.01908E</td>\n    </tr>\n    <tr>\n      <th>5</th>\n      <td>5</td>\n      <td>2019/08/01 14:05</td>\n      <td>10001</td>\n      <td>2.01908E+13</td>\n      <td>87.15</td>\n      <td>2019/08/01</td>\n      <td>2.01908E</td>\n    </tr>\n    <tr>\n      <th>6</th>\n      <td>6</td>\n      <td>2019/08/01 14:05</td>\n      <td>10004</td>\n      <td>2.01908E+13</td>\n      <td>88.65</td>\n      <td>2019/08/01</td>\n      <td>2.01908E</td>\n    </tr>\n  </tbody>\n</table>\n</div>"
     },
     "metadata": {},
     "execution_count": 29
    }
   ],
   "source": [
    "# strなので、08/01 ≠ 08-01\n",
    "order_08_01 = order_data[order_data['ts'].astype(str).str.contains('08/01')]\n",
    "order_08_01"
   ]
  },
  {
   "cell_type": "markdown",
   "metadata": {},
   "source": [
    "### regexp_extract\n",
    "```\n",
    "select\n",
    "    *\n",
    "    ,regexp_extract(ts,'(\\\\d{4}-\\\\d{2}-\\\\d{2}).*',1) as dt3\n",
    "from t_order\n",
    "```\n"
   ]
  },
  {
   "cell_type": "code",
   "execution_count": 30,
   "metadata": {},
   "outputs": [
    {
     "output_type": "execute_result",
     "data": {
      "text/plain": "   id                ts    uid      orderid  amount          dt       dt2  \\\n0  id                ts    uid      orderid  amount          ts   orderid   \n1   1   2019/08/01 9:15  10005  2.01908E+13   48.43  2019/08/01  2.01908E   \n2   2  2019/08/01 10:00  10001  2.01908E+13   89.33  2019/08/01  2.01908E   \n3   3  2019/08/01 10:04  10003  2.01908E+13   63.86  2019/08/01  2.01908E   \n4   4  2019/08/01 12:17  10002  2.01908E+13    3.16  2019/08/01  2.01908E   \n\n          dt3  \n0         NaN  \n1  2019/08/01  \n2  2019/08/01  \n3  2019/08/01  \n4  2019/08/01  ",
      "text/html": "<div>\n<style scoped>\n    .dataframe tbody tr th:only-of-type {\n        vertical-align: middle;\n    }\n\n    .dataframe tbody tr th {\n        vertical-align: top;\n    }\n\n    .dataframe thead th {\n        text-align: right;\n    }\n</style>\n<table border=\"1\" class=\"dataframe\">\n  <thead>\n    <tr style=\"text-align: right;\">\n      <th></th>\n      <th>id</th>\n      <th>ts</th>\n      <th>uid</th>\n      <th>orderid</th>\n      <th>amount</th>\n      <th>dt</th>\n      <th>dt2</th>\n      <th>dt3</th>\n    </tr>\n  </thead>\n  <tbody>\n    <tr>\n      <th>0</th>\n      <td>id</td>\n      <td>ts</td>\n      <td>uid</td>\n      <td>orderid</td>\n      <td>amount</td>\n      <td>ts</td>\n      <td>orderid</td>\n      <td>NaN</td>\n    </tr>\n    <tr>\n      <th>1</th>\n      <td>1</td>\n      <td>2019/08/01 9:15</td>\n      <td>10005</td>\n      <td>2.01908E+13</td>\n      <td>48.43</td>\n      <td>2019/08/01</td>\n      <td>2.01908E</td>\n      <td>2019/08/01</td>\n    </tr>\n    <tr>\n      <th>2</th>\n      <td>2</td>\n      <td>2019/08/01 10:00</td>\n      <td>10001</td>\n      <td>2.01908E+13</td>\n      <td>89.33</td>\n      <td>2019/08/01</td>\n      <td>2.01908E</td>\n      <td>2019/08/01</td>\n    </tr>\n    <tr>\n      <th>3</th>\n      <td>3</td>\n      <td>2019/08/01 10:04</td>\n      <td>10003</td>\n      <td>2.01908E+13</td>\n      <td>63.86</td>\n      <td>2019/08/01</td>\n      <td>2.01908E</td>\n      <td>2019/08/01</td>\n    </tr>\n    <tr>\n      <th>4</th>\n      <td>4</td>\n      <td>2019/08/01 12:17</td>\n      <td>10002</td>\n      <td>2.01908E+13</td>\n      <td>3.16</td>\n      <td>2019/08/01</td>\n      <td>2.01908E</td>\n      <td>2019/08/01</td>\n    </tr>\n  </tbody>\n</table>\n</div>"
     },
     "metadata": {},
     "execution_count": 30
    }
   ],
   "source": [
    "# '(\\d{4}/\\d{2}/\\d{2}),*' means extract '4 digit number/2 digit number/2 digit number' follow by any random Character form 'ts'\n",
    "order_data['dt3'] = order_data['ts'].astype(str).str.extract('(\\d{4}/\\d{2}/\\d{2}),*')\n",
    "order_data.head()"
   ]
  },
  {
   "cell_type": "code",
   "execution_count": 31,
   "metadata": {},
   "outputs": [
    {
     "output_type": "execute_result",
     "data": {
      "text/plain": "   id                ts    uid      orderid  amount          dt       dt2  \\\n0  id                ts    uid      orderid  amount          ts   orderid   \n1   1   2019/08/01 9:15  10005  2.01908E+13   48.43  2019/08/01  2.01908E   \n2   2  2019/08/01 10:00  10001  2.01908E+13   89.33  2019/08/01  2.01908E   \n3   3  2019/08/01 10:04  10003  2.01908E+13   63.86  2019/08/01  2.01908E   \n4   4  2019/08/01 12:17  10002  2.01908E+13    3.16  2019/08/01  2.01908E   \n\n          dt3  \n0         NaN  \n1  2019/08/01  \n2  2019/08/01  \n3  2019/08/01  \n4  2019/08/01  ",
      "text/html": "<div>\n<style scoped>\n    .dataframe tbody tr th:only-of-type {\n        vertical-align: middle;\n    }\n\n    .dataframe tbody tr th {\n        vertical-align: top;\n    }\n\n    .dataframe thead th {\n        text-align: right;\n    }\n</style>\n<table border=\"1\" class=\"dataframe\">\n  <thead>\n    <tr style=\"text-align: right;\">\n      <th></th>\n      <th>id</th>\n      <th>ts</th>\n      <th>uid</th>\n      <th>orderid</th>\n      <th>amount</th>\n      <th>dt</th>\n      <th>dt2</th>\n      <th>dt3</th>\n    </tr>\n  </thead>\n  <tbody>\n    <tr>\n      <th>0</th>\n      <td>id</td>\n      <td>ts</td>\n      <td>uid</td>\n      <td>orderid</td>\n      <td>amount</td>\n      <td>ts</td>\n      <td>orderid</td>\n      <td>NaN</td>\n    </tr>\n    <tr>\n      <th>1</th>\n      <td>1</td>\n      <td>2019/08/01 9:15</td>\n      <td>10005</td>\n      <td>2.01908E+13</td>\n      <td>48.43</td>\n      <td>2019/08/01</td>\n      <td>2.01908E</td>\n      <td>2019/08/01</td>\n    </tr>\n    <tr>\n      <th>2</th>\n      <td>2</td>\n      <td>2019/08/01 10:00</td>\n      <td>10001</td>\n      <td>2.01908E+13</td>\n      <td>89.33</td>\n      <td>2019/08/01</td>\n      <td>2.01908E</td>\n      <td>2019/08/01</td>\n    </tr>\n    <tr>\n      <th>3</th>\n      <td>3</td>\n      <td>2019/08/01 10:04</td>\n      <td>10003</td>\n      <td>2.01908E+13</td>\n      <td>63.86</td>\n      <td>2019/08/01</td>\n      <td>2.01908E</td>\n      <td>2019/08/01</td>\n    </tr>\n    <tr>\n      <th>4</th>\n      <td>4</td>\n      <td>2019/08/01 12:17</td>\n      <td>10002</td>\n      <td>2.01908E+13</td>\n      <td>3.16</td>\n      <td>2019/08/01</td>\n      <td>2.01908E</td>\n      <td>2019/08/01</td>\n    </tr>\n  </tbody>\n</table>\n</div>"
     },
     "metadata": {},
     "execution_count": 31
    }
   ],
   "source": [
    "order_data['dt3'] = order_data['ts'].astype(str).str.extract('(\\d{4}/\\d{2}/\\d{2}).*')\n",
    "order_data.head()"
   ]
  },
  {
   "cell_type": "markdown",
   "metadata": {},
   "source": [
    "### regexp_replace\n"
   ]
  },
  {
   "cell_type": "code",
   "execution_count": 32,
   "metadata": {},
   "outputs": [
    {
     "output_type": "execute_result",
     "data": {
      "text/plain": "   id                ts    uid      orderid  amount          dt       dt2  \\\n0  id                ts    uid      orderid  amount          ts   orderid   \n1   1   2019/08/01 9:15  10005  2.01908E+13   48.43  2019/08/01  2.01908E   \n2   2  2019/08/01 10:00  10001  2.01908E+13   89.33  2019/08/01  2.01908E   \n3   3  2019/08/01 10:04  10003  2.01908E+13   63.86  2019/08/01  2.01908E   \n4   4  2019/08/01 12:17  10002  2.01908E+13    3.16  2019/08/01  2.01908E   \n\n          dt3               dt4  \n0         NaN                ts  \n1  2019/08/01   2019-08-01 9:15  \n2  2019/08/01  2019-08-01 10:00  \n3  2019/08/01  2019-08-01 10:04  \n4  2019/08/01  2019-08-01 12:17  ",
      "text/html": "<div>\n<style scoped>\n    .dataframe tbody tr th:only-of-type {\n        vertical-align: middle;\n    }\n\n    .dataframe tbody tr th {\n        vertical-align: top;\n    }\n\n    .dataframe thead th {\n        text-align: right;\n    }\n</style>\n<table border=\"1\" class=\"dataframe\">\n  <thead>\n    <tr style=\"text-align: right;\">\n      <th></th>\n      <th>id</th>\n      <th>ts</th>\n      <th>uid</th>\n      <th>orderid</th>\n      <th>amount</th>\n      <th>dt</th>\n      <th>dt2</th>\n      <th>dt3</th>\n      <th>dt4</th>\n    </tr>\n  </thead>\n  <tbody>\n    <tr>\n      <th>0</th>\n      <td>id</td>\n      <td>ts</td>\n      <td>uid</td>\n      <td>orderid</td>\n      <td>amount</td>\n      <td>ts</td>\n      <td>orderid</td>\n      <td>NaN</td>\n      <td>ts</td>\n    </tr>\n    <tr>\n      <th>1</th>\n      <td>1</td>\n      <td>2019/08/01 9:15</td>\n      <td>10005</td>\n      <td>2.01908E+13</td>\n      <td>48.43</td>\n      <td>2019/08/01</td>\n      <td>2.01908E</td>\n      <td>2019/08/01</td>\n      <td>2019-08-01 9:15</td>\n    </tr>\n    <tr>\n      <th>2</th>\n      <td>2</td>\n      <td>2019/08/01 10:00</td>\n      <td>10001</td>\n      <td>2.01908E+13</td>\n      <td>89.33</td>\n      <td>2019/08/01</td>\n      <td>2.01908E</td>\n      <td>2019/08/01</td>\n      <td>2019-08-01 10:00</td>\n    </tr>\n    <tr>\n      <th>3</th>\n      <td>3</td>\n      <td>2019/08/01 10:04</td>\n      <td>10003</td>\n      <td>2.01908E+13</td>\n      <td>63.86</td>\n      <td>2019/08/01</td>\n      <td>2.01908E</td>\n      <td>2019/08/01</td>\n      <td>2019-08-01 10:04</td>\n    </tr>\n    <tr>\n      <th>4</th>\n      <td>4</td>\n      <td>2019/08/01 12:17</td>\n      <td>10002</td>\n      <td>2.01908E+13</td>\n      <td>3.16</td>\n      <td>2019/08/01</td>\n      <td>2.01908E</td>\n      <td>2019/08/01</td>\n      <td>2019-08-01 12:17</td>\n    </tr>\n  </tbody>\n</table>\n</div>"
     },
     "metadata": {},
     "execution_count": 32
    }
   ],
   "source": [
    "order_data['dt4'] = order_data['ts'].astype(str).str.replace('/','-')\n",
    "order_data.head()"
   ]
  }
 ],
 "metadata": {
  "kernelspec": {
   "display_name": "Python 3",
   "language": "python",
   "name": "python3"
  },
  "language_info": {
   "codemirror_mode": {
    "name": "ipython",
    "version": 3
   },
   "file_extension": ".py",
   "mimetype": "text/x-python",
   "name": "python",
   "nbconvert_exporter": "python",
   "pygments_lexer": "ipython3",
   "version": "3.7.6-final"
  },
  "toc": {
   "base_numbering": "0",
   "nav_menu": {},
   "number_sections": true,
   "sideBar": true,
   "skip_h1_title": false,
   "title_cell": "Table of Contents",
   "title_sidebar": "Contents",
   "toc_cell": false,
   "toc_position": {},
   "toc_section_display": true,
   "toc_window_display": true
  }
 },
 "nbformat": 4,
 "nbformat_minor": 4
}
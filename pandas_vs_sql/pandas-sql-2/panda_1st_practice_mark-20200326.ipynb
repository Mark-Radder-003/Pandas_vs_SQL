{
 "cells": [
  {
   "cell_type": "code",
   "execution_count": 14,
   "metadata": {},
   "outputs": [],
   "source": [
    "import pandas as pd"
   ]
  },
  {
   "cell_type": "code",
   "execution_count": 15,
   "metadata": {},
   "outputs": [],
   "source": [
    "import numpy as np"
   ]
  },
  {
   "cell_type": "code",
   "execution_count": 16,
   "metadata": {},
   "outputs": [
    {
     "output_type": "execute_result",
     "data": {
      "text/plain": "'1.0.1'"
     },
     "metadata": {},
     "execution_count": 16
    }
   ],
   "source": [
    "pd.__version__"
   ]
  },
  {
   "cell_type": "code",
   "execution_count": 17,
   "metadata": {},
   "outputs": [],
   "source": [
    "order_data = pd.read_csv('order.csv')"
   ]
  },
  {
   "cell_type": "code",
   "execution_count": 18,
   "metadata": {},
   "outputs": [
    {
     "output_type": "execute_result",
     "data": {
      "text/plain": "    id                ts    uid       orderid  amount\n0    1   2019/08/01 9:15  10005  2.019080e+13   48.43\n1    2  2019/08/01 10:00  10001  2.019080e+13   89.33\n2    3  2019/08/01 10:04  10003  2.019080e+13   63.86\n3    4  2019/08/01 12:17  10002  2.019080e+13    3.16\n4    5  2019/08/01 14:05  10001  2.019080e+13   87.15\n..  ..               ...    ...           ...     ...\n78  79  2019/08/10 19:10  10003  2.019080e+13   68.86\n79  80  2019/08/10 19:14  10002  2.019080e+13   68.07\n80  81  2019/08/11 15:11  10007  2.019080e+13   52.76\n81  82  2019/08/12 15:16  10007  2.019080e+13   61.90\n82  83  2019/08/13 15:14  10002  2.019080e+13   46.87\n\n[83 rows x 5 columns]",
      "text/html": "<div>\n<style scoped>\n    .dataframe tbody tr th:only-of-type {\n        vertical-align: middle;\n    }\n\n    .dataframe tbody tr th {\n        vertical-align: top;\n    }\n\n    .dataframe thead th {\n        text-align: right;\n    }\n</style>\n<table border=\"1\" class=\"dataframe\">\n  <thead>\n    <tr style=\"text-align: right;\">\n      <th></th>\n      <th>id</th>\n      <th>ts</th>\n      <th>uid</th>\n      <th>orderid</th>\n      <th>amount</th>\n    </tr>\n  </thead>\n  <tbody>\n    <tr>\n      <th>0</th>\n      <td>1</td>\n      <td>2019/08/01 9:15</td>\n      <td>10005</td>\n      <td>2.019080e+13</td>\n      <td>48.43</td>\n    </tr>\n    <tr>\n      <th>1</th>\n      <td>2</td>\n      <td>2019/08/01 10:00</td>\n      <td>10001</td>\n      <td>2.019080e+13</td>\n      <td>89.33</td>\n    </tr>\n    <tr>\n      <th>2</th>\n      <td>3</td>\n      <td>2019/08/01 10:04</td>\n      <td>10003</td>\n      <td>2.019080e+13</td>\n      <td>63.86</td>\n    </tr>\n    <tr>\n      <th>3</th>\n      <td>4</td>\n      <td>2019/08/01 12:17</td>\n      <td>10002</td>\n      <td>2.019080e+13</td>\n      <td>3.16</td>\n    </tr>\n    <tr>\n      <th>4</th>\n      <td>5</td>\n      <td>2019/08/01 14:05</td>\n      <td>10001</td>\n      <td>2.019080e+13</td>\n      <td>87.15</td>\n    </tr>\n    <tr>\n      <th>...</th>\n      <td>...</td>\n      <td>...</td>\n      <td>...</td>\n      <td>...</td>\n      <td>...</td>\n    </tr>\n    <tr>\n      <th>78</th>\n      <td>79</td>\n      <td>2019/08/10 19:10</td>\n      <td>10003</td>\n      <td>2.019080e+13</td>\n      <td>68.86</td>\n    </tr>\n    <tr>\n      <th>79</th>\n      <td>80</td>\n      <td>2019/08/10 19:14</td>\n      <td>10002</td>\n      <td>2.019080e+13</td>\n      <td>68.07</td>\n    </tr>\n    <tr>\n      <th>80</th>\n      <td>81</td>\n      <td>2019/08/11 15:11</td>\n      <td>10007</td>\n      <td>2.019080e+13</td>\n      <td>52.76</td>\n    </tr>\n    <tr>\n      <th>81</th>\n      <td>82</td>\n      <td>2019/08/12 15:16</td>\n      <td>10007</td>\n      <td>2.019080e+13</td>\n      <td>61.90</td>\n    </tr>\n    <tr>\n      <th>82</th>\n      <td>83</td>\n      <td>2019/08/13 15:14</td>\n      <td>10002</td>\n      <td>2.019080e+13</td>\n      <td>46.87</td>\n    </tr>\n  </tbody>\n</table>\n<p>83 rows × 5 columns</p>\n</div>"
     },
     "metadata": {},
     "execution_count": 18
    }
   ],
   "source": [
    "order_data"
   ]
  },
  {
   "cell_type": "code",
   "execution_count": 20,
   "metadata": {},
   "outputs": [
    {
     "output_type": "execute_result",
     "data": {
      "text/plain": "   id                ts    uid       orderid  amount          dt\n0   1   2019/08/01 9:15  10005  2.019080e+13   48.43  2019/08/01\n1   2  2019/08/01 10:00  10001  2.019080e+13   89.33  2019/08/01\n2   3  2019/08/01 10:04  10003  2.019080e+13   63.86  2019/08/01\n3   4  2019/08/01 12:17  10002  2.019080e+13    3.16  2019/08/01\n4   5  2019/08/01 14:05  10001  2.019080e+13   87.15  2019/08/01",
      "text/html": "<div>\n<style scoped>\n    .dataframe tbody tr th:only-of-type {\n        vertical-align: middle;\n    }\n\n    .dataframe tbody tr th {\n        vertical-align: top;\n    }\n\n    .dataframe thead th {\n        text-align: right;\n    }\n</style>\n<table border=\"1\" class=\"dataframe\">\n  <thead>\n    <tr style=\"text-align: right;\">\n      <th></th>\n      <th>id</th>\n      <th>ts</th>\n      <th>uid</th>\n      <th>orderid</th>\n      <th>amount</th>\n      <th>dt</th>\n    </tr>\n  </thead>\n  <tbody>\n    <tr>\n      <th>0</th>\n      <td>1</td>\n      <td>2019/08/01 9:15</td>\n      <td>10005</td>\n      <td>2.019080e+13</td>\n      <td>48.43</td>\n      <td>2019/08/01</td>\n    </tr>\n    <tr>\n      <th>1</th>\n      <td>2</td>\n      <td>2019/08/01 10:00</td>\n      <td>10001</td>\n      <td>2.019080e+13</td>\n      <td>89.33</td>\n      <td>2019/08/01</td>\n    </tr>\n    <tr>\n      <th>2</th>\n      <td>3</td>\n      <td>2019/08/01 10:04</td>\n      <td>10003</td>\n      <td>2.019080e+13</td>\n      <td>63.86</td>\n      <td>2019/08/01</td>\n    </tr>\n    <tr>\n      <th>3</th>\n      <td>4</td>\n      <td>2019/08/01 12:17</td>\n      <td>10002</td>\n      <td>2.019080e+13</td>\n      <td>3.16</td>\n      <td>2019/08/01</td>\n    </tr>\n    <tr>\n      <th>4</th>\n      <td>5</td>\n      <td>2019/08/01 14:05</td>\n      <td>10001</td>\n      <td>2.019080e+13</td>\n      <td>87.15</td>\n      <td>2019/08/01</td>\n    </tr>\n  </tbody>\n</table>\n</div>"
     },
     "metadata": {},
     "execution_count": 20
    }
   ],
   "source": [
    "order_data['dt'] = order_data['ts'].str[:10]\n",
    "order_data.head()"
   ]
  },
  {
   "cell_type": "code",
   "execution_count": 21,
   "metadata": {},
   "outputs": [
    {
     "output_type": "execute_result",
     "data": {
      "text/plain": "   id                ts    uid       orderid  amount          dt       dt2\n0   1   2019/08/01 9:15  10005  2.019080e+13   48.43  2019/08/01  20190800\n1   2  2019/08/01 10:00  10001  2.019080e+13   89.33  2019/08/01  20190800\n2   3  2019/08/01 10:04  10003  2.019080e+13   63.86  2019/08/01  20190800\n3   4  2019/08/01 12:17  10002  2.019080e+13    3.16  2019/08/01  20190800\n4   5  2019/08/01 14:05  10001  2.019080e+13   87.15  2019/08/01  20190800",
      "text/html": "<div>\n<style scoped>\n    .dataframe tbody tr th:only-of-type {\n        vertical-align: middle;\n    }\n\n    .dataframe tbody tr th {\n        vertical-align: top;\n    }\n\n    .dataframe thead th {\n        text-align: right;\n    }\n</style>\n<table border=\"1\" class=\"dataframe\">\n  <thead>\n    <tr style=\"text-align: right;\">\n      <th></th>\n      <th>id</th>\n      <th>ts</th>\n      <th>uid</th>\n      <th>orderid</th>\n      <th>amount</th>\n      <th>dt</th>\n      <th>dt2</th>\n    </tr>\n  </thead>\n  <tbody>\n    <tr>\n      <th>0</th>\n      <td>1</td>\n      <td>2019/08/01 9:15</td>\n      <td>10005</td>\n      <td>2.019080e+13</td>\n      <td>48.43</td>\n      <td>2019/08/01</td>\n      <td>20190800</td>\n    </tr>\n    <tr>\n      <th>1</th>\n      <td>2</td>\n      <td>2019/08/01 10:00</td>\n      <td>10001</td>\n      <td>2.019080e+13</td>\n      <td>89.33</td>\n      <td>2019/08/01</td>\n      <td>20190800</td>\n    </tr>\n    <tr>\n      <th>2</th>\n      <td>3</td>\n      <td>2019/08/01 10:04</td>\n      <td>10003</td>\n      <td>2.019080e+13</td>\n      <td>63.86</td>\n      <td>2019/08/01</td>\n      <td>20190800</td>\n    </tr>\n    <tr>\n      <th>3</th>\n      <td>4</td>\n      <td>2019/08/01 12:17</td>\n      <td>10002</td>\n      <td>2.019080e+13</td>\n      <td>3.16</td>\n      <td>2019/08/01</td>\n      <td>20190800</td>\n    </tr>\n    <tr>\n      <th>4</th>\n      <td>5</td>\n      <td>2019/08/01 14:05</td>\n      <td>10001</td>\n      <td>2.019080e+13</td>\n      <td>87.15</td>\n      <td>2019/08/01</td>\n      <td>20190800</td>\n    </tr>\n  </tbody>\n</table>\n</div>"
     },
     "metadata": {},
     "execution_count": 21
    }
   ],
   "source": [
    "# astype(str) ≈ cast (xxx as str)\n",
    "order_data['dt2'] = order_data['orderid'].astype(str).str[:8]\n",
    "order_data.head()"
   ]
  },
  {
   "cell_type": "code",
   "execution_count": 24,
   "metadata": {},
   "outputs": [
    {
     "output_type": "execute_result",
     "data": {
      "text/plain": "   id                ts    uid       orderid  amount          dt       dt2\n0   1   2019/08/01 9:15  10005  2.019080e+13   48.43  2019/08/01  20190800\n1   2  2019/08/01 10:00  10001  2.019080e+13   89.33  2019/08/01  20190800\n2   3  2019/08/01 10:04  10003  2.019080e+13   63.86  2019/08/01  20190800\n3   4  2019/08/01 12:17  10002  2.019080e+13    3.16  2019/08/01  20190800\n4   5  2019/08/01 14:05  10001  2.019080e+13   87.15  2019/08/01  20190800\n5   6  2019/08/01 14:05  10004  2.019080e+13   88.65  2019/08/01  20190800",
      "text/html": "<div>\n<style scoped>\n    .dataframe tbody tr th:only-of-type {\n        vertical-align: middle;\n    }\n\n    .dataframe tbody tr th {\n        vertical-align: top;\n    }\n\n    .dataframe thead th {\n        text-align: right;\n    }\n</style>\n<table border=\"1\" class=\"dataframe\">\n  <thead>\n    <tr style=\"text-align: right;\">\n      <th></th>\n      <th>id</th>\n      <th>ts</th>\n      <th>uid</th>\n      <th>orderid</th>\n      <th>amount</th>\n      <th>dt</th>\n      <th>dt2</th>\n    </tr>\n  </thead>\n  <tbody>\n    <tr>\n      <th>0</th>\n      <td>1</td>\n      <td>2019/08/01 9:15</td>\n      <td>10005</td>\n      <td>2.019080e+13</td>\n      <td>48.43</td>\n      <td>2019/08/01</td>\n      <td>20190800</td>\n    </tr>\n    <tr>\n      <th>1</th>\n      <td>2</td>\n      <td>2019/08/01 10:00</td>\n      <td>10001</td>\n      <td>2.019080e+13</td>\n      <td>89.33</td>\n      <td>2019/08/01</td>\n      <td>20190800</td>\n    </tr>\n    <tr>\n      <th>2</th>\n      <td>3</td>\n      <td>2019/08/01 10:04</td>\n      <td>10003</td>\n      <td>2.019080e+13</td>\n      <td>63.86</td>\n      <td>2019/08/01</td>\n      <td>20190800</td>\n    </tr>\n    <tr>\n      <th>3</th>\n      <td>4</td>\n      <td>2019/08/01 12:17</td>\n      <td>10002</td>\n      <td>2.019080e+13</td>\n      <td>3.16</td>\n      <td>2019/08/01</td>\n      <td>20190800</td>\n    </tr>\n    <tr>\n      <th>4</th>\n      <td>5</td>\n      <td>2019/08/01 14:05</td>\n      <td>10001</td>\n      <td>2.019080e+13</td>\n      <td>87.15</td>\n      <td>2019/08/01</td>\n      <td>20190800</td>\n    </tr>\n    <tr>\n      <th>5</th>\n      <td>6</td>\n      <td>2019/08/01 14:05</td>\n      <td>10004</td>\n      <td>2.019080e+13</td>\n      <td>88.65</td>\n      <td>2019/08/01</td>\n      <td>20190800</td>\n    </tr>\n  </tbody>\n</table>\n</div>"
     },
     "metadata": {},
     "execution_count": 24
    }
   ],
   "source": [
    "# strなので、08/01 ≠ 08-01\n",
    "order_08_01 = order_data[order_data['ts'].astype(str).str.contains('08/01')]\n",
    "order_08_01"
   ]
  },
  {
   "cell_type": "code",
   "execution_count": 37,
   "metadata": {},
   "outputs": [
    {
     "output_type": "execute_result",
     "data": {
      "text/plain": "   id                ts    uid       orderid  amount          dt       dt2  \\\n0   1   2019/08/01 9:15  10005  2.019080e+13   48.43  2019/08/01  20190800   \n1   2  2019/08/01 10:00  10001  2.019080e+13   89.33  2019/08/01  20190800   \n2   3  2019/08/01 10:04  10003  2.019080e+13   63.86  2019/08/01  20190800   \n3   4  2019/08/01 12:17  10002  2.019080e+13    3.16  2019/08/01  20190800   \n4   5  2019/08/01 14:05  10001  2.019080e+13   87.15  2019/08/01  20190800   \n\n          dt3  \n0  2019/08/01  \n1  2019/08/01  \n2  2019/08/01  \n3  2019/08/01  \n4  2019/08/01  ",
      "text/html": "<div>\n<style scoped>\n    .dataframe tbody tr th:only-of-type {\n        vertical-align: middle;\n    }\n\n    .dataframe tbody tr th {\n        vertical-align: top;\n    }\n\n    .dataframe thead th {\n        text-align: right;\n    }\n</style>\n<table border=\"1\" class=\"dataframe\">\n  <thead>\n    <tr style=\"text-align: right;\">\n      <th></th>\n      <th>id</th>\n      <th>ts</th>\n      <th>uid</th>\n      <th>orderid</th>\n      <th>amount</th>\n      <th>dt</th>\n      <th>dt2</th>\n      <th>dt3</th>\n    </tr>\n  </thead>\n  <tbody>\n    <tr>\n      <th>0</th>\n      <td>1</td>\n      <td>2019/08/01 9:15</td>\n      <td>10005</td>\n      <td>2.019080e+13</td>\n      <td>48.43</td>\n      <td>2019/08/01</td>\n      <td>20190800</td>\n      <td>2019/08/01</td>\n    </tr>\n    <tr>\n      <th>1</th>\n      <td>2</td>\n      <td>2019/08/01 10:00</td>\n      <td>10001</td>\n      <td>2.019080e+13</td>\n      <td>89.33</td>\n      <td>2019/08/01</td>\n      <td>20190800</td>\n      <td>2019/08/01</td>\n    </tr>\n    <tr>\n      <th>2</th>\n      <td>3</td>\n      <td>2019/08/01 10:04</td>\n      <td>10003</td>\n      <td>2.019080e+13</td>\n      <td>63.86</td>\n      <td>2019/08/01</td>\n      <td>20190800</td>\n      <td>2019/08/01</td>\n    </tr>\n    <tr>\n      <th>3</th>\n      <td>4</td>\n      <td>2019/08/01 12:17</td>\n      <td>10002</td>\n      <td>2.019080e+13</td>\n      <td>3.16</td>\n      <td>2019/08/01</td>\n      <td>20190800</td>\n      <td>2019/08/01</td>\n    </tr>\n    <tr>\n      <th>4</th>\n      <td>5</td>\n      <td>2019/08/01 14:05</td>\n      <td>10001</td>\n      <td>2.019080e+13</td>\n      <td>87.15</td>\n      <td>2019/08/01</td>\n      <td>20190800</td>\n      <td>2019/08/01</td>\n    </tr>\n  </tbody>\n</table>\n</div>"
     },
     "metadata": {},
     "execution_count": 37
    }
   ],
   "source": [
    "order_data['dt3'] = order_data['ts'].astype(str).str.extract('(\\d{4}/\\d{2}/\\d{2}).*')\n",
    "order_data.head()"
   ]
  },
  {
   "cell_type": "code",
   "execution_count": 39,
   "metadata": {},
   "outputs": [
    {
     "output_type": "execute_result",
     "data": {
      "text/plain": "   id                ts    uid       orderid  amount          dt       dt2  \\\n0   1   2019/08/01 9:15  10005  2.019080e+13   48.43  2019/08/01  20190800   \n1   2  2019/08/01 10:00  10001  2.019080e+13   89.33  2019/08/01  20190800   \n2   3  2019/08/01 10:04  10003  2.019080e+13   63.86  2019/08/01  20190800   \n3   4  2019/08/01 12:17  10002  2.019080e+13    3.16  2019/08/01  20190800   \n4   5  2019/08/01 14:05  10001  2.019080e+13   87.15  2019/08/01  20190800   \n\n          dt3               dt4  \n0  2019/08/01   2019-08-01 9:15  \n1  2019/08/01  2019-08-01 10:00  \n2  2019/08/01  2019-08-01 10:04  \n3  2019/08/01  2019-08-01 12:17  \n4  2019/08/01  2019-08-01 14:05  ",
      "text/html": "<div>\n<style scoped>\n    .dataframe tbody tr th:only-of-type {\n        vertical-align: middle;\n    }\n\n    .dataframe tbody tr th {\n        vertical-align: top;\n    }\n\n    .dataframe thead th {\n        text-align: right;\n    }\n</style>\n<table border=\"1\" class=\"dataframe\">\n  <thead>\n    <tr style=\"text-align: right;\">\n      <th></th>\n      <th>id</th>\n      <th>ts</th>\n      <th>uid</th>\n      <th>orderid</th>\n      <th>amount</th>\n      <th>dt</th>\n      <th>dt2</th>\n      <th>dt3</th>\n      <th>dt4</th>\n    </tr>\n  </thead>\n  <tbody>\n    <tr>\n      <th>0</th>\n      <td>1</td>\n      <td>2019/08/01 9:15</td>\n      <td>10005</td>\n      <td>2.019080e+13</td>\n      <td>48.43</td>\n      <td>2019/08/01</td>\n      <td>20190800</td>\n      <td>2019/08/01</td>\n      <td>2019-08-01 9:15</td>\n    </tr>\n    <tr>\n      <th>1</th>\n      <td>2</td>\n      <td>2019/08/01 10:00</td>\n      <td>10001</td>\n      <td>2.019080e+13</td>\n      <td>89.33</td>\n      <td>2019/08/01</td>\n      <td>20190800</td>\n      <td>2019/08/01</td>\n      <td>2019-08-01 10:00</td>\n    </tr>\n    <tr>\n      <th>2</th>\n      <td>3</td>\n      <td>2019/08/01 10:04</td>\n      <td>10003</td>\n      <td>2.019080e+13</td>\n      <td>63.86</td>\n      <td>2019/08/01</td>\n      <td>20190800</td>\n      <td>2019/08/01</td>\n      <td>2019-08-01 10:04</td>\n    </tr>\n    <tr>\n      <th>3</th>\n      <td>4</td>\n      <td>2019/08/01 12:17</td>\n      <td>10002</td>\n      <td>2.019080e+13</td>\n      <td>3.16</td>\n      <td>2019/08/01</td>\n      <td>20190800</td>\n      <td>2019/08/01</td>\n      <td>2019-08-01 12:17</td>\n    </tr>\n    <tr>\n      <th>4</th>\n      <td>5</td>\n      <td>2019/08/01 14:05</td>\n      <td>10001</td>\n      <td>2.019080e+13</td>\n      <td>87.15</td>\n      <td>2019/08/01</td>\n      <td>20190800</td>\n      <td>2019/08/01</td>\n      <td>2019-08-01 14:05</td>\n    </tr>\n  </tbody>\n</table>\n</div>"
     },
     "metadata": {},
     "execution_count": 39
    }
   ],
   "source": [
    "order_data['dt4'] = order_data['ts'].astype(str).str.replace('/','-')\n",
    "order_data.head()"
   ]
  },
  {
   "cell_type": "code",
   "execution_count": null,
   "metadata": {},
   "outputs": [],
   "source": []
  },
  {
   "cell_type": "code",
   "execution_count": null,
   "metadata": {},
   "outputs": [],
   "source": []
  },
  {
   "cell_type": "code",
   "execution_count": null,
   "metadata": {},
   "outputs": [],
   "source": []
  },
  {
   "cell_type": "code",
   "execution_count": null,
   "metadata": {},
   "outputs": [],
   "source": []
  },
  {
   "cell_type": "code",
   "execution_count": null,
   "metadata": {},
   "outputs": [],
   "source": []
  },
  {
   "cell_type": "code",
   "execution_count": null,
   "metadata": {},
   "outputs": [],
   "source": []
  },
  {
   "cell_type": "code",
   "execution_count": null,
   "metadata": {},
   "outputs": [],
   "source": []
  },
  {
   "cell_type": "code",
   "execution_count": null,
   "metadata": {},
   "outputs": [],
   "source": []
  },
  {
   "cell_type": "code",
   "execution_count": null,
   "metadata": {},
   "outputs": [],
   "source": []
  },
  {
   "cell_type": "code",
   "execution_count": null,
   "metadata": {},
   "outputs": [],
   "source": []
  },
  {
   "cell_type": "code",
   "execution_count": null,
   "metadata": {},
   "outputs": [],
   "source": []
  }
 ],
 "metadata": {
  "kernelspec": {
   "display_name": "Python 3",
   "language": "python",
   "name": "python3"
  },
  "language_info": {
   "codemirror_mode": {
    "name": "ipython",
    "version": 3
   },
   "file_extension": ".py",
   "mimetype": "text/x-python",
   "name": "python",
   "nbconvert_exporter": "python",
   "pygments_lexer": "ipython3",
   "version": "3.7.4-final"
  }
 },
 "nbformat": 4,
 "nbformat_minor": 4
}